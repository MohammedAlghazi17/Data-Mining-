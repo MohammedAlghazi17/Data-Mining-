{
 "cells": [
  {
   "cell_type": "code",
   "execution_count": 1,
   "metadata": {},
   "outputs": [],
   "source": [
    "# imports\n",
    "import pandas as pd # for using pandas data frames\n",
    "import numpy as np # for converting numpy array to data frame"
   ]
  },
  {
   "cell_type": "code",
   "execution_count": 2,
   "metadata": {},
   "outputs": [],
   "source": [
    "# imports for graphs and plotting\n",
    "#get_ipython().system('pip install ggplot')\n",
    "#get_ipython().system('pip install plotnine')"
   ]
  },
  {
   "cell_type": "code",
   "execution_count": 3,
   "metadata": {},
   "outputs": [],
   "source": [
    "from plotnine import ggplot, aes, geom_line\n",
    "\n",
    "#import matplotlib.pyplot as plt\n",
    "\n",
    "import matplotlib.pyplot as plt\n",
    "\n",
    "get_ipython().run_line_magic('matplotlib', 'inline')\n",
    "\n",
    "from matplotlib.pylab import rcParams\n",
    "\n",
    "rcParams['figure.figsize']=20,10"
   ]
  },
  {
   "cell_type": "code",
   "execution_count": 4,
   "metadata": {},
   "outputs": [
    {
     "name": "stdout",
     "output_type": "stream",
     "text": [
      "       country iso3c iso2c  year  Intentional homicides (per 100,000 people)  \\\n",
      "1  Afghanistan   AFG    AF  1971                                         NaN   \n",
      "2  Afghanistan   AFG    AF  1972                                         NaN   \n",
      "3  Afghanistan   AFG    AF  1973                                         NaN   \n",
      "4  Afghanistan   AFG    AF  1974                                         NaN   \n",
      "5  Afghanistan   AFG    AF  1975                                         NaN   \n",
      "6  Afghanistan   AFG    AF  1976                                         NaN   \n",
      "7  Afghanistan   AFG    AF  1977                                         NaN   \n",
      "8  Afghanistan   AFG    AF  1978                                         NaN   \n",
      "9  Afghanistan   AFG    AF  1979                                         NaN   \n",
      "\n",
      "   Suicide mortality rate (per 100,000 population)  GDP (current US$)  \\\n",
      "1                                              NaN       1.831109e+09   \n",
      "2                                              NaN       1.595555e+09   \n",
      "3                                              NaN       1.733333e+09   \n",
      "4                                              NaN       2.155555e+09   \n",
      "5                                              NaN       2.366667e+09   \n",
      "6                                              NaN       2.555556e+09   \n",
      "7                                              NaN       2.953333e+09   \n",
      "8                                              NaN       3.300000e+09   \n",
      "9                                              NaN       3.697940e+09   \n",
      "\n",
      "   GDP per capita, PPP (current international $) adminregion incomeLevel  \n",
      "1                                            NaN  South Asia  Low income  \n",
      "2                                            NaN  South Asia  Low income  \n",
      "3                                            NaN  South Asia  Low income  \n",
      "4                                            NaN  South Asia  Low income  \n",
      "5                                            NaN  South Asia  Low income  \n",
      "6                                            NaN  South Asia  Low income  \n",
      "7                                            NaN  South Asia  Low income  \n",
      "8                                            NaN  South Asia  Low income  \n",
      "9                                            NaN  South Asia  Low income  \n"
     ]
    }
   ],
   "source": [
    "\n",
    "# reading from csv data file as pandas data frame\n",
    "df = pd.read_csv(r'suicide-homicide-gdp.csv')\n",
    "\n",
    "# checking the data (rows 1-10)\n",
    "print(df[1:10])"
   ]
  },
  {
   "cell_type": "code",
   "execution_count": 5,
   "metadata": {},
   "outputs": [
    {
     "data": {
      "text/html": [
       "<div>\n",
       "<style scoped>\n",
       "    .dataframe tbody tr th:only-of-type {\n",
       "        vertical-align: middle;\n",
       "    }\n",
       "\n",
       "    .dataframe tbody tr th {\n",
       "        vertical-align: top;\n",
       "    }\n",
       "\n",
       "    .dataframe thead th {\n",
       "        text-align: right;\n",
       "    }\n",
       "</style>\n",
       "<table border=\"1\" class=\"dataframe\">\n",
       "  <thead>\n",
       "    <tr style=\"text-align: right;\">\n",
       "      <th></th>\n",
       "      <th>country</th>\n",
       "      <th>iso3c</th>\n",
       "      <th>iso2c</th>\n",
       "      <th>year</th>\n",
       "      <th>Intentional homicides (per 100,000 people)</th>\n",
       "      <th>Suicide mortality rate (per 100,000 population)</th>\n",
       "      <th>GDP (current US$)</th>\n",
       "      <th>GDP per capita, PPP (current international $)</th>\n",
       "      <th>adminregion</th>\n",
       "      <th>incomeLevel</th>\n",
       "    </tr>\n",
       "  </thead>\n",
       "  <tbody>\n",
       "    <tr>\n",
       "      <th>0</th>\n",
       "      <td>Afghanistan</td>\n",
       "      <td>AFG</td>\n",
       "      <td>AF</td>\n",
       "      <td>1970</td>\n",
       "      <td>NaN</td>\n",
       "      <td>NaN</td>\n",
       "      <td>1748886596.0</td>\n",
       "      <td>NaN</td>\n",
       "      <td>South Asia</td>\n",
       "      <td>Low income</td>\n",
       "    </tr>\n",
       "    <tr>\n",
       "      <th>1</th>\n",
       "      <td>Afghanistan</td>\n",
       "      <td>AFG</td>\n",
       "      <td>AF</td>\n",
       "      <td>1971</td>\n",
       "      <td>NaN</td>\n",
       "      <td>NaN</td>\n",
       "      <td>1831108971.0</td>\n",
       "      <td>NaN</td>\n",
       "      <td>South Asia</td>\n",
       "      <td>Low income</td>\n",
       "    </tr>\n",
       "    <tr>\n",
       "      <th>2</th>\n",
       "      <td>Afghanistan</td>\n",
       "      <td>AFG</td>\n",
       "      <td>AF</td>\n",
       "      <td>1972</td>\n",
       "      <td>NaN</td>\n",
       "      <td>NaN</td>\n",
       "      <td>1595555476.0</td>\n",
       "      <td>NaN</td>\n",
       "      <td>South Asia</td>\n",
       "      <td>Low income</td>\n",
       "    </tr>\n",
       "    <tr>\n",
       "      <th>3</th>\n",
       "      <td>Afghanistan</td>\n",
       "      <td>AFG</td>\n",
       "      <td>AF</td>\n",
       "      <td>1973</td>\n",
       "      <td>NaN</td>\n",
       "      <td>NaN</td>\n",
       "      <td>1733333264.0</td>\n",
       "      <td>NaN</td>\n",
       "      <td>South Asia</td>\n",
       "      <td>Low income</td>\n",
       "    </tr>\n",
       "    <tr>\n",
       "      <th>4</th>\n",
       "      <td>Afghanistan</td>\n",
       "      <td>AFG</td>\n",
       "      <td>AF</td>\n",
       "      <td>1974</td>\n",
       "      <td>NaN</td>\n",
       "      <td>NaN</td>\n",
       "      <td>2155555498.0</td>\n",
       "      <td>NaN</td>\n",
       "      <td>South Asia</td>\n",
       "      <td>Low income</td>\n",
       "    </tr>\n",
       "  </tbody>\n",
       "</table>\n",
       "</div>"
      ],
      "text/plain": [
       "       country iso3c iso2c  year Intentional homicides (per 100,000 people)  \\\n",
       "0  Afghanistan   AFG    AF  1970                                        NaN   \n",
       "1  Afghanistan   AFG    AF  1971                                        NaN   \n",
       "2  Afghanistan   AFG    AF  1972                                        NaN   \n",
       "3  Afghanistan   AFG    AF  1973                                        NaN   \n",
       "4  Afghanistan   AFG    AF  1974                                        NaN   \n",
       "\n",
       "  Suicide mortality rate (per 100,000 population) GDP (current US$)  \\\n",
       "0                                             NaN      1748886596.0   \n",
       "1                                             NaN      1831108971.0   \n",
       "2                                             NaN      1595555476.0   \n",
       "3                                             NaN      1733333264.0   \n",
       "4                                             NaN      2155555498.0   \n",
       "\n",
       "  GDP per capita, PPP (current international $) adminregion incomeLevel  \n",
       "0                                           NaN  South Asia  Low income  \n",
       "1                                           NaN  South Asia  Low income  \n",
       "2                                           NaN  South Asia  Low income  \n",
       "3                                           NaN  South Asia  Low income  \n",
       "4                                           NaN  South Asia  Low income  "
      ]
     },
     "execution_count": 5,
     "metadata": {},
     "output_type": "execute_result"
    }
   ],
   "source": [
    "# creating a data frame from raw data with headings\n",
    "data_frame = pd.DataFrame(np.array(df), columns = ['country', 'iso3c', 'iso2c', 'year', 'Intentional homicides (per 100,000 people)', 'Suicide mortality rate (per 100,000 population)', 'GDP (current US$)', 'GDP per capita, PPP (current international $)', 'adminregion', 'incomeLevel'])\n",
    "data_frame.head()"
   ]
  },
  {
   "cell_type": "code",
   "execution_count": 6,
   "metadata": {},
   "outputs": [
    {
     "data": {
      "text/html": [
       "<div>\n",
       "<style scoped>\n",
       "    .dataframe tbody tr th:only-of-type {\n",
       "        vertical-align: middle;\n",
       "    }\n",
       "\n",
       "    .dataframe tbody tr th {\n",
       "        vertical-align: top;\n",
       "    }\n",
       "\n",
       "    .dataframe thead th {\n",
       "        text-align: right;\n",
       "    }\n",
       "</style>\n",
       "<table border=\"1\" class=\"dataframe\">\n",
       "  <thead>\n",
       "    <tr style=\"text-align: right;\">\n",
       "      <th></th>\n",
       "      <th>country</th>\n",
       "      <th>iso3c</th>\n",
       "      <th>iso2c</th>\n",
       "      <th>year</th>\n",
       "      <th>Intentional homicides (per 100,000 people)</th>\n",
       "      <th>Suicide mortality rate (per 100,000 population)</th>\n",
       "      <th>GDP (current US$)</th>\n",
       "      <th>GDP per capita, PPP (current international $)</th>\n",
       "      <th>adminregion</th>\n",
       "      <th>incomeLevel</th>\n",
       "    </tr>\n",
       "  </thead>\n",
       "  <tbody>\n",
       "    <tr>\n",
       "      <th>39</th>\n",
       "      <td>Afghanistan</td>\n",
       "      <td>AFG</td>\n",
       "      <td>AF</td>\n",
       "      <td>2009</td>\n",
       "      <td>3.926774</td>\n",
       "      <td>4.4</td>\n",
       "      <td>12416161049.0</td>\n",
       "      <td>1519.692923</td>\n",
       "      <td>South Asia</td>\n",
       "      <td>Low income</td>\n",
       "    </tr>\n",
       "    <tr>\n",
       "      <th>40</th>\n",
       "      <td>Afghanistan</td>\n",
       "      <td>AFG</td>\n",
       "      <td>AF</td>\n",
       "      <td>2010</td>\n",
       "      <td>3.36811</td>\n",
       "      <td>4.3</td>\n",
       "      <td>15856678596.0</td>\n",
       "      <td>1710.575411</td>\n",
       "      <td>South Asia</td>\n",
       "      <td>Low income</td>\n",
       "    </tr>\n",
       "    <tr>\n",
       "      <th>41</th>\n",
       "      <td>Afghanistan</td>\n",
       "      <td>AFG</td>\n",
       "      <td>AF</td>\n",
       "      <td>2011</td>\n",
       "      <td>4.087337</td>\n",
       "      <td>4.1</td>\n",
       "      <td>17805113119.0</td>\n",
       "      <td>1699.48811</td>\n",
       "      <td>South Asia</td>\n",
       "      <td>Low income</td>\n",
       "    </tr>\n",
       "    <tr>\n",
       "      <th>42</th>\n",
       "      <td>Afghanistan</td>\n",
       "      <td>AFG</td>\n",
       "      <td>AF</td>\n",
       "      <td>2012</td>\n",
       "      <td>6.251328</td>\n",
       "      <td>4.0</td>\n",
       "      <td>19907317066.0</td>\n",
       "      <td>1914.774228</td>\n",
       "      <td>South Asia</td>\n",
       "      <td>Low income</td>\n",
       "    </tr>\n",
       "    <tr>\n",
       "      <th>45</th>\n",
       "      <td>Afghanistan</td>\n",
       "      <td>AFG</td>\n",
       "      <td>AF</td>\n",
       "      <td>2015</td>\n",
       "      <td>9.783922</td>\n",
       "      <td>4.0</td>\n",
       "      <td>19134211764.0</td>\n",
       "      <td>2087.305323</td>\n",
       "      <td>South Asia</td>\n",
       "      <td>Low income</td>\n",
       "    </tr>\n",
       "  </tbody>\n",
       "</table>\n",
       "</div>"
      ],
      "text/plain": [
       "        country iso3c iso2c  year Intentional homicides (per 100,000 people)  \\\n",
       "39  Afghanistan   AFG    AF  2009                                   3.926774   \n",
       "40  Afghanistan   AFG    AF  2010                                    3.36811   \n",
       "41  Afghanistan   AFG    AF  2011                                   4.087337   \n",
       "42  Afghanistan   AFG    AF  2012                                   6.251328   \n",
       "45  Afghanistan   AFG    AF  2015                                   9.783922   \n",
       "\n",
       "   Suicide mortality rate (per 100,000 population) GDP (current US$)  \\\n",
       "39                                             4.4     12416161049.0   \n",
       "40                                             4.3     15856678596.0   \n",
       "41                                             4.1     17805113119.0   \n",
       "42                                             4.0     19907317066.0   \n",
       "45                                             4.0     19134211764.0   \n",
       "\n",
       "   GDP per capita, PPP (current international $) adminregion incomeLevel  \n",
       "39                                   1519.692923  South Asia  Low income  \n",
       "40                                   1710.575411  South Asia  Low income  \n",
       "41                                    1699.48811  South Asia  Low income  \n",
       "42                                   1914.774228  South Asia  Low income  \n",
       "45                                   2087.305323  South Asia  Low income  "
      ]
     },
     "execution_count": 6,
     "metadata": {},
     "output_type": "execute_result"
    }
   ],
   "source": [
    "# removing blank rows from data frame, setting threshold of 1 - anything with 1 NaN will be removed\n",
    "newdf = data_frame = data_frame.dropna(thresh=10)\n",
    "\n",
    "newdf.head()"
   ]
  },
  {
   "cell_type": "code",
   "execution_count": 7,
   "metadata": {},
   "outputs": [
    {
     "data": {
      "text/plain": [
       "(1487, 10)"
      ]
     },
     "execution_count": 7,
     "metadata": {},
     "output_type": "execute_result"
    }
   ],
   "source": [
    "# checking the size of the data set\n",
    "newdf.shape"
   ]
  },
  {
   "cell_type": "code",
   "execution_count": 8,
   "metadata": {},
   "outputs": [],
   "source": [
    "# saving to new csv\n",
    "newdf.to_csv('cleaned_data02.csv')"
   ]
  },
  {
   "cell_type": "markdown",
   "metadata": {},
   "source": [
    " We have now cut our data from 13,000+ rows down to 1,411 after removing any rows which were mostly blank (NaN) rows. Our reasoning for this was due to missing values would cause issues when implementing any machine learning modules.\n",
    " \n",
    "Data Exploration\n",
    " We now want to create some graphs to help visualize the current data"
   ]
  },
  {
   "cell_type": "code",
   "execution_count": 9,
   "metadata": {},
   "outputs": [
    {
     "data": {
      "image/png": "[encoded data removed]",
      "text/plain": [
       "<Figure size 1440x720 with 1 Axes>"
      ]
     },
     "metadata": {
      "needs_background": "light"
     },
     "output_type": "display_data"
    }
   ],
   "source": [
    "year = newdf['year']\n",
    "homicides = newdf['Intentional homicides (per 100,000 people)']\n",
    "\n",
    "plt.bar(year, homicides, color=\"red\")\n",
    "\n",
    "plt.xlabel('Year')\n",
    "\n",
    "plt.ylabel('Homicides')\n",
    "\n",
    "plt.title('Increase/Decrease in Homicides')\n",
    "\n",
    "plt.xticks(rotation=90)\n",
    "\n",
    "plt.show()"
   ]
  },
  {
   "cell_type": "code",
   "execution_count": 10,
   "metadata": {},
   "outputs": [
    {
     "data": {
      "image/png": "[encoded data removed]",
      "text/plain": [
       "<Figure size 1440x720 with 1 Axes>"
      ]
     },
     "metadata": {
      "needs_background": "light"
     },
     "output_type": "display_data"
    }
   ],
   "source": [
    "year = newdf['year']\n",
    "Suicide = newdf['Suicide mortality rate (per 100,000 population)']\n",
    "\n",
    "plt.bar(year, Suicide, color=\"blue\")\n",
    "\n",
    "plt.xlabel('Year')\n",
    "\n",
    "plt.ylabel('Suicide')\n",
    "\n",
    "plt.title('Graph for suicides per year')\n",
    "\n",
    "plt.xticks(rotation=90)\n",
    "\n",
    "plt.show()"
   ]
  },
  {
   "cell_type": "code",
   "execution_count": 11,
   "metadata": {},
   "outputs": [
    {
     "data": {
      "image/png": "[encoded data removed]",
      "text/plain": [
       "<Figure size 1440x720 with 1 Axes>"
      ]
     },
     "metadata": {
      "needs_background": "light"
     },
     "output_type": "display_data"
    }
   ],
   "source": [
    "year = newdf['year']\n",
    "GDP = newdf['GDP per capita, PPP (current international $)']\n",
    "\n",
    "plt.bar(year, GDP, color=\"green\")\n",
    "\n",
    "plt.xlabel('Year')\n",
    "\n",
    "plt.ylabel('GDP')\n",
    "\n",
    "plt.title('GDP per year')\n",
    "\n",
    "plt.xticks(rotation=90)\n",
    "\n",
    "plt.show()"
   ]
  },
  {
   "cell_type": "code",
   "execution_count": null,
   "metadata": {},
   "outputs": [],
   "source": []
  }
 ],
 "metadata": {
  "interpreter": {
   "hash": "639f361ad657fd45530bdd3e74f62afebc8edc35ba6ab7eef1042ba440bc9585"
  },
  "kernelspec": {
   "display_name": "Python 3.9.5 64-bit",
   "language": "python",
   "name": "python3"
  },
  "language_info": {
   "codemirror_mode": {
    "name": "ipython",
    "version": 3
   },
   "file_extension": ".py",
   "mimetype": "text/x-python",
   "name": "python",
   "nbconvert_exporter": "python",
   "pygments_lexer": "ipython3",
   "version": "3.9.5"
  },
  "orig_nbformat": 4
 },
 "nbformat": 4,
 "nbformat_minor": 2
}
