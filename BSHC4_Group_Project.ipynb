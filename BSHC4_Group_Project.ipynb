{
 "cells": [
  {
   "cell_type": "code",
   "execution_count": 6,
   "metadata": {},
   "outputs": [],
   "source": [
    "# imports\n",
    "import pandas as pd # for using pandas data frames\n",
    "import numpy as np # for converting numpy array to data frame"
   ]
  },
  {
   "cell_type": "code",
   "execution_count": 7,
   "metadata": {},
   "outputs": [],
   "source": [
    "# imports for graphs and plotting\n",
    "#get_ipython().system('pip install ggplot')\n",
    "#get_ipython().system('pip install plotnine')"
   ]
  },
  {
   "cell_type": "code",
   "execution_count": 8,
   "metadata": {},
   "outputs": [],
   "source": [
    "from plotnine import ggplot, aes, geom_line\n",
    "\n",
    "#import matplotlib.pyplot as plt\n",
    "\n",
    "import matplotlib.pyplot as plt\n",
    "\n",
    "get_ipython().run_line_magic('matplotlib', 'inline')\n",
    "\n",
    "from matplotlib.pylab import rcParams\n",
    "\n",
    "rcParams['figure.figsize']=20,10"
   ]
  },
  {
   "cell_type": "code",
   "execution_count": 9,
   "metadata": {},
   "outputs": [],
   "source": [
    "\n",
    "# reading from csv data file as pandas data frame\n",
    "df = pd.read_csv('cleaned_data02.csv')\n",
    "\n",
    "# checking the data (rows 1-10)\n",
    "#print(df[1:10])"
   ]
  },
  {
   "cell_type": "code",
   "execution_count": 10,
   "metadata": {},
   "outputs": [
    {
     "data": {
      "text/html": [
       "<div>\n",
       "<style scoped>\n",
       "    .dataframe tbody tr th:only-of-type {\n",
       "        vertical-align: middle;\n",
       "    }\n",
       "\n",
       "    .dataframe tbody tr th {\n",
       "        vertical-align: top;\n",
       "    }\n",
       "\n",
       "    .dataframe thead th {\n",
       "        text-align: right;\n",
       "    }\n",
       "</style>\n",
       "<table border=\"1\" class=\"dataframe\">\n",
       "  <thead>\n",
       "    <tr style=\"text-align: right;\">\n",
       "      <th></th>\n",
       "      <th>country</th>\n",
       "      <th>year</th>\n",
       "      <th>Intentional_homicides_per100k</th>\n",
       "      <th>Suicide_mortality_rate_per100k</th>\n",
       "      <th>GDP_us</th>\n",
       "      <th>GDP_per_capita</th>\n",
       "      <th>adminregion</th>\n",
       "      <th>incomeLevel</th>\n",
       "    </tr>\n",
       "  </thead>\n",
       "  <tbody>\n",
       "    <tr>\n",
       "      <th>0</th>\n",
       "      <td>Afghanistan</td>\n",
       "      <td>2009</td>\n",
       "      <td>3.926774</td>\n",
       "      <td>4.4</td>\n",
       "      <td>12416161049.0</td>\n",
       "      <td>1519.692923</td>\n",
       "      <td>South Asia</td>\n",
       "      <td>Low income</td>\n",
       "    </tr>\n",
       "    <tr>\n",
       "      <th>1</th>\n",
       "      <td>Afghanistan</td>\n",
       "      <td>2010</td>\n",
       "      <td>3.36811</td>\n",
       "      <td>4.3</td>\n",
       "      <td>15856678596.0</td>\n",
       "      <td>1710.575411</td>\n",
       "      <td>South Asia</td>\n",
       "      <td>Low income</td>\n",
       "    </tr>\n",
       "    <tr>\n",
       "      <th>2</th>\n",
       "      <td>Afghanistan</td>\n",
       "      <td>2011</td>\n",
       "      <td>4.087337</td>\n",
       "      <td>4.1</td>\n",
       "      <td>17805113119.0</td>\n",
       "      <td>1699.48811</td>\n",
       "      <td>South Asia</td>\n",
       "      <td>Low income</td>\n",
       "    </tr>\n",
       "    <tr>\n",
       "      <th>3</th>\n",
       "      <td>Afghanistan</td>\n",
       "      <td>2012</td>\n",
       "      <td>6.251328</td>\n",
       "      <td>4.0</td>\n",
       "      <td>19907317066.0</td>\n",
       "      <td>1914.774228</td>\n",
       "      <td>South Asia</td>\n",
       "      <td>Low income</td>\n",
       "    </tr>\n",
       "    <tr>\n",
       "      <th>4</th>\n",
       "      <td>Afghanistan</td>\n",
       "      <td>2015</td>\n",
       "      <td>9.783922</td>\n",
       "      <td>4.0</td>\n",
       "      <td>19134211764.0</td>\n",
       "      <td>2087.305323</td>\n",
       "      <td>South Asia</td>\n",
       "      <td>Low income</td>\n",
       "    </tr>\n",
       "  </tbody>\n",
       "</table>\n",
       "</div>"
      ],
      "text/plain": [
       "       country  year Intentional_homicides_per100k  \\\n",
       "0  Afghanistan  2009                      3.926774   \n",
       "1  Afghanistan  2010                       3.36811   \n",
       "2  Afghanistan  2011                      4.087337   \n",
       "3  Afghanistan  2012                      6.251328   \n",
       "4  Afghanistan  2015                      9.783922   \n",
       "\n",
       "  Suicide_mortality_rate_per100k         GDP_us GDP_per_capita adminregion  \\\n",
       "0                            4.4  12416161049.0    1519.692923  South Asia   \n",
       "1                            4.3  15856678596.0    1710.575411  South Asia   \n",
       "2                            4.1  17805113119.0     1699.48811  South Asia   \n",
       "3                            4.0  19907317066.0    1914.774228  South Asia   \n",
       "4                            4.0  19134211764.0    2087.305323  South Asia   \n",
       "\n",
       "  incomeLevel  \n",
       "0  Low income  \n",
       "1  Low income  \n",
       "2  Low income  \n",
       "3  Low income  \n",
       "4  Low income  "
      ]
     },
     "execution_count": 10,
     "metadata": {},
     "output_type": "execute_result"
    }
   ],
   "source": [
    "# creating a data frame from raw data with headings\n",
    "data_frame = pd.DataFrame(np.array(df), columns = ['country', 'year', 'Intentional_homicides_per100k', 'Suicide_mortality_rate_per100k', 'GDP_us', 'GDP_per_capita', 'adminregion', 'incomeLevel'])\n",
    "data_frame.head()"
   ]
  },
  {
   "cell_type": "code",
   "execution_count": 11,
   "metadata": {},
   "outputs": [
    {
     "data": {
      "text/html": [
       "<div>\n",
       "<style scoped>\n",
       "    .dataframe tbody tr th:only-of-type {\n",
       "        vertical-align: middle;\n",
       "    }\n",
       "\n",
       "    .dataframe tbody tr th {\n",
       "        vertical-align: top;\n",
       "    }\n",
       "\n",
       "    .dataframe thead th {\n",
       "        text-align: right;\n",
       "    }\n",
       "</style>\n",
       "<table border=\"1\" class=\"dataframe\">\n",
       "  <thead>\n",
       "    <tr style=\"text-align: right;\">\n",
       "      <th></th>\n",
       "      <th>country</th>\n",
       "      <th>year</th>\n",
       "      <th>Intentional_homicides_per100k</th>\n",
       "      <th>Suicide_mortality_rate_per100k</th>\n",
       "      <th>GDP_us</th>\n",
       "      <th>GDP_per_capita</th>\n",
       "      <th>adminregion</th>\n",
       "      <th>incomeLevel</th>\n",
       "    </tr>\n",
       "  </thead>\n",
       "  <tbody>\n",
       "    <tr>\n",
       "      <th>0</th>\n",
       "      <td>Afghanistan</td>\n",
       "      <td>2009</td>\n",
       "      <td>3.926774</td>\n",
       "      <td>4.4</td>\n",
       "      <td>12416161049.0</td>\n",
       "      <td>1519.692923</td>\n",
       "      <td>South Asia</td>\n",
       "      <td>Low income</td>\n",
       "    </tr>\n",
       "    <tr>\n",
       "      <th>1</th>\n",
       "      <td>Afghanistan</td>\n",
       "      <td>2010</td>\n",
       "      <td>3.36811</td>\n",
       "      <td>4.3</td>\n",
       "      <td>15856678596.0</td>\n",
       "      <td>1710.575411</td>\n",
       "      <td>South Asia</td>\n",
       "      <td>Low income</td>\n",
       "    </tr>\n",
       "    <tr>\n",
       "      <th>2</th>\n",
       "      <td>Afghanistan</td>\n",
       "      <td>2011</td>\n",
       "      <td>4.087337</td>\n",
       "      <td>4.1</td>\n",
       "      <td>17805113119.0</td>\n",
       "      <td>1699.48811</td>\n",
       "      <td>South Asia</td>\n",
       "      <td>Low income</td>\n",
       "    </tr>\n",
       "    <tr>\n",
       "      <th>3</th>\n",
       "      <td>Afghanistan</td>\n",
       "      <td>2012</td>\n",
       "      <td>6.251328</td>\n",
       "      <td>4.0</td>\n",
       "      <td>19907317066.0</td>\n",
       "      <td>1914.774228</td>\n",
       "      <td>South Asia</td>\n",
       "      <td>Low income</td>\n",
       "    </tr>\n",
       "    <tr>\n",
       "      <th>4</th>\n",
       "      <td>Afghanistan</td>\n",
       "      <td>2015</td>\n",
       "      <td>9.783922</td>\n",
       "      <td>4.0</td>\n",
       "      <td>19134211764.0</td>\n",
       "      <td>2087.305323</td>\n",
       "      <td>South Asia</td>\n",
       "      <td>Low income</td>\n",
       "    </tr>\n",
       "  </tbody>\n",
       "</table>\n",
       "</div>"
      ],
      "text/plain": [
       "       country  year Intentional_homicides_per100k  \\\n",
       "0  Afghanistan  2009                      3.926774   \n",
       "1  Afghanistan  2010                       3.36811   \n",
       "2  Afghanistan  2011                      4.087337   \n",
       "3  Afghanistan  2012                      6.251328   \n",
       "4  Afghanistan  2015                      9.783922   \n",
       "\n",
       "  Suicide_mortality_rate_per100k         GDP_us GDP_per_capita adminregion  \\\n",
       "0                            4.4  12416161049.0    1519.692923  South Asia   \n",
       "1                            4.3  15856678596.0    1710.575411  South Asia   \n",
       "2                            4.1  17805113119.0     1699.48811  South Asia   \n",
       "3                            4.0  19907317066.0    1914.774228  South Asia   \n",
       "4                            4.0  19134211764.0    2087.305323  South Asia   \n",
       "\n",
       "  incomeLevel  \n",
       "0  Low income  \n",
       "1  Low income  \n",
       "2  Low income  \n",
       "3  Low income  \n",
       "4  Low income  "
      ]
     },
     "execution_count": 11,
     "metadata": {},
     "output_type": "execute_result"
    }
   ],
   "source": [
    "# removing blank rows from data frame, setting threshold of 1 - anything with 1 NaN will be removed\n",
    "newdf = data_frame = data_frame.dropna(thresh=1)\n",
    "\n",
    "newdf.head()"
   ]
  },
  {
   "cell_type": "code",
   "execution_count": 12,
   "metadata": {},
   "outputs": [
    {
     "data": {
      "text/plain": [
       "(1487, 8)"
      ]
     },
     "execution_count": 12,
     "metadata": {},
     "output_type": "execute_result"
    }
   ],
   "source": [
    "# checking the size of the data set\n",
    "newdf.shape"
   ]
  },
  {
   "cell_type": "code",
   "execution_count": 13,
   "metadata": {},
   "outputs": [],
   "source": [
    "# saving to new csv\n",
    "newdf.to_csv('cleaned_data02.csv')"
   ]
  },
  {
   "cell_type": "markdown",
   "metadata": {},
   "source": [
    " We have now cut our data from 13,000+ rows down to 1,411 after removing any rows which were mostly blank (NaN) rows. Our reasoning for this was due to missing values would cause issues when implementing any machine learning modules.\n",
    " \n",
    "Data Exploration\n",
    " We now want to create some graphs to help visualize the current data"
   ]
  },
  {
   "cell_type": "code",
   "execution_count": 14,
   "metadata": {},
   "outputs": [
    {
     "data": {
      "image/png": "[encoded data removed]",
      "text/plain": [
       "<Figure size 1440x720 with 1 Axes>"
      ]
     },
     "metadata": {
      "needs_background": "light"
     },
     "output_type": "display_data"
    }
   ],
   "source": [
    "year = newdf['year']\n",
    "homicides = newdf['Intentional_homicides_per100k']\n",
    "\n",
    "plt.bar(year, homicides, color=\"red\")\n",
    "\n",
    "plt.xlabel('Year')\n",
    "\n",
    "plt.ylabel('Homicides')\n",
    "\n",
    "plt.title('Increase/Decrease in Homicides')\n",
    "\n",
    "plt.xticks(rotation=90)\n",
    "\n",
    "plt.show()"
   ]
  },
  {
   "cell_type": "code",
   "execution_count": 15,
   "metadata": {},
   "outputs": [
    {
     "data": {
      "image/png": "[encoded data removed]",
      "text/plain": [
       "<Figure size 1440x720 with 1 Axes>"
      ]
     },
     "metadata": {
      "needs_background": "light"
     },
     "output_type": "display_data"
    }
   ],
   "source": [
    "year = newdf['year']\n",
    "Suicide = newdf['Suicide_mortality_rate_per100k']\n",
    "\n",
    "plt.bar(year, Suicide, color=\"blue\")\n",
    "\n",
    "plt.xlabel('Year')\n",
    "\n",
    "plt.ylabel('Suicide')\n",
    "\n",
    "plt.title('Graph for suicides per year')\n",
    "\n",
    "plt.xticks(rotation=90)\n",
    "\n",
    "plt.show()"
   ]
  },
  {
   "cell_type": "code",
   "execution_count": 16,
   "metadata": {},
   "outputs": [
    {
     "data": {
      "image/png": "[encoded data removed]",
      "text/plain": [
       "<Figure size 1440x720 with 1 Axes>"
      ]
     },
     "metadata": {
      "needs_background": "light"
     },
     "output_type": "display_data"
    }
   ],
   "source": [
    "year = newdf['year']\n",
    "GDP = newdf['GDP_per_capita']\n",
    "\n",
    "plt.bar(year, GDP, color=\"green\")\n",
    "\n",
    "plt.xlabel('Year')\n",
    "\n",
    "plt.ylabel('GDP')\n",
    "\n",
    "plt.title('GDP per year')\n",
    "\n",
    "plt.xticks(rotation=90)\n",
    "\n",
    "plt.show()"
   ]
  },
  {
   "cell_type": "markdown",
   "metadata": {},
   "source": [
    "Regression"
   ]
  },
  {
   "cell_type": "code",
   "execution_count": 17,
   "metadata": {},
   "outputs": [],
   "source": [
    "from sklearn.model_selection import train_test_split\n",
    "from sklearn.linear_model import LinearRegression \n",
    "from sklearn.metrics import mean_squared_error\n",
    "import matplotlib.pyplot as plt\n",
    "import pandas as pd\n",
    "import numpy as np"
   ]
  },
  {
   "cell_type": "code",
   "execution_count": 18,
   "metadata": {},
   "outputs": [
    {
     "data": {
      "image/png": "[encoded data removed]",
      "text/plain": [
       "<Figure size 1440x720 with 1 Axes>"
      ]
     },
     "metadata": {
      "needs_background": "light"
     },
     "output_type": "display_data"
    },
    {
     "data": {
      "image/png": "[encoded data removed]",
      "text/plain": [
       "<Figure size 1440x720 with 1 Axes>"
      ]
     },
     "metadata": {
      "needs_background": "light"
     },
     "output_type": "display_data"
    }
   ],
   "source": [
    "regression = pd.read_csv('cleaned_data02.csv')\n",
    "regression.shape\n",
    "regression.head(10)\n",
    "regression.plot('year', 'Intentional_homicides_per100k')\n",
    "regression.plot.scatter('year', 'Intentional_homicides_per100k')\n",
    "x_train, x_test, y_train, y_test = train_test_split(regression.year, regression.Intentional_homicides_per100k, test_size = 0.2)\n",
    "regr = LinearRegression()\n",
    "regr.fit(np.array(x_train).reshape(-1,1), y_train)\n",
    "preds = regr.predict(np.array(x_test).reshape(-1,1))\n",
    "y_test.head()\n",
    "preds\n",
    "residuals = preds - y_test\n",
    "#plt.hist(residuals)\n",
    "#mean_squared_error(y_test,preds)**0.5\n",
    "\n",
    "\n"
   ]
  },
  {
   "cell_type": "code",
   "execution_count": 19,
   "metadata": {},
   "outputs": [
    {
     "data": {
      "text/plain": [
       "(array([  3.,   3.,   3.,   1.,   7.,   8.,   7.,  15.,  53., 198.]),\n",
       " array([-60.27876729, -53.22628321, -46.17379912, -39.12131504,\n",
       "        -32.06883095, -25.01634687, -17.96386278, -10.9113787 ,\n",
       "         -3.85889462,   3.19358947,  10.24607355]),\n",
       " <BarContainer object of 10 artists>)"
      ]
     },
     "execution_count": 19,
     "metadata": {},
     "output_type": "execute_result"
    },
    {
     "data": {
      "image/png": "[encoded data removed]",
      "text/plain": [
       "<Figure size 1440x720 with 1 Axes>"
      ]
     },
     "metadata": {
      "needs_background": "light"
     },
     "output_type": "display_data"
    }
   ],
   "source": [
    "plt.hist(residuals)"
   ]
  },
  {
   "cell_type": "code",
   "execution_count": 20,
   "metadata": {},
   "outputs": [
    {
     "data": {
      "text/plain": [
       "12.53815593397988"
      ]
     },
     "execution_count": 20,
     "metadata": {},
     "output_type": "execute_result"
    }
   ],
   "source": [
    "mean_squared_error(y_test, preds) ** 0.5"
   ]
  },
  {
   "cell_type": "markdown",
   "metadata": {},
   "source": [
    "The mean squared error tells us how far off the line of best fit the regressed predictions are.\n",
    "\n",
    "Mean Squared Error = 12.691 "
   ]
  },
  {
   "cell_type": "code",
   "execution_count": 21,
   "metadata": {},
   "outputs": [
    {
     "data": {
      "text/html": [
       "<div>\n",
       "<style scoped>\n",
       "    .dataframe tbody tr th:only-of-type {\n",
       "        vertical-align: middle;\n",
       "    }\n",
       "\n",
       "    .dataframe tbody tr th {\n",
       "        vertical-align: top;\n",
       "    }\n",
       "\n",
       "    .dataframe thead th {\n",
       "        text-align: right;\n",
       "    }\n",
       "</style>\n",
       "<table border=\"1\" class=\"dataframe\">\n",
       "  <thead>\n",
       "    <tr style=\"text-align: right;\">\n",
       "      <th></th>\n",
       "      <th>Unnamed: 0</th>\n",
       "      <th>country</th>\n",
       "      <th>year</th>\n",
       "      <th>Intentional_homicides_per100k</th>\n",
       "      <th>Suicide_mortality_rate_per100k</th>\n",
       "      <th>GDP_us</th>\n",
       "      <th>GDP_per_capita</th>\n",
       "      <th>adminregion</th>\n",
       "      <th>incomeLevel</th>\n",
       "    </tr>\n",
       "  </thead>\n",
       "  <tbody>\n",
       "    <tr>\n",
       "      <th>0</th>\n",
       "      <td>0</td>\n",
       "      <td>Afghanistan</td>\n",
       "      <td>2009</td>\n",
       "      <td>3.926774</td>\n",
       "      <td>4.4</td>\n",
       "      <td>1.241616e+10</td>\n",
       "      <td>1519.692923</td>\n",
       "      <td>South Asia</td>\n",
       "      <td>Low income</td>\n",
       "    </tr>\n",
       "    <tr>\n",
       "      <th>1</th>\n",
       "      <td>1</td>\n",
       "      <td>Afghanistan</td>\n",
       "      <td>2010</td>\n",
       "      <td>3.368110</td>\n",
       "      <td>4.3</td>\n",
       "      <td>1.585668e+10</td>\n",
       "      <td>1710.575411</td>\n",
       "      <td>South Asia</td>\n",
       "      <td>Low income</td>\n",
       "    </tr>\n",
       "    <tr>\n",
       "      <th>2</th>\n",
       "      <td>2</td>\n",
       "      <td>Afghanistan</td>\n",
       "      <td>2011</td>\n",
       "      <td>4.087337</td>\n",
       "      <td>4.1</td>\n",
       "      <td>1.780511e+10</td>\n",
       "      <td>1699.488110</td>\n",
       "      <td>South Asia</td>\n",
       "      <td>Low income</td>\n",
       "    </tr>\n",
       "    <tr>\n",
       "      <th>3</th>\n",
       "      <td>3</td>\n",
       "      <td>Afghanistan</td>\n",
       "      <td>2012</td>\n",
       "      <td>6.251328</td>\n",
       "      <td>4.0</td>\n",
       "      <td>1.990732e+10</td>\n",
       "      <td>1914.774228</td>\n",
       "      <td>South Asia</td>\n",
       "      <td>Low income</td>\n",
       "    </tr>\n",
       "    <tr>\n",
       "      <th>4</th>\n",
       "      <td>4</td>\n",
       "      <td>Afghanistan</td>\n",
       "      <td>2015</td>\n",
       "      <td>9.783922</td>\n",
       "      <td>4.0</td>\n",
       "      <td>1.913421e+10</td>\n",
       "      <td>2087.305323</td>\n",
       "      <td>South Asia</td>\n",
       "      <td>Low income</td>\n",
       "    </tr>\n",
       "  </tbody>\n",
       "</table>\n",
       "</div>"
      ],
      "text/plain": [
       "   Unnamed: 0      country  year  Intentional_homicides_per100k  \\\n",
       "0           0  Afghanistan  2009                       3.926774   \n",
       "1           1  Afghanistan  2010                       3.368110   \n",
       "2           2  Afghanistan  2011                       4.087337   \n",
       "3           3  Afghanistan  2012                       6.251328   \n",
       "4           4  Afghanistan  2015                       9.783922   \n",
       "\n",
       "   Suicide_mortality_rate_per100k        GDP_us  GDP_per_capita adminregion  \\\n",
       "0                             4.4  1.241616e+10     1519.692923  South Asia   \n",
       "1                             4.3  1.585668e+10     1710.575411  South Asia   \n",
       "2                             4.1  1.780511e+10     1699.488110  South Asia   \n",
       "3                             4.0  1.990732e+10     1914.774228  South Asia   \n",
       "4                             4.0  1.913421e+10     2087.305323  South Asia   \n",
       "\n",
       "  incomeLevel  \n",
       "0  Low income  \n",
       "1  Low income  \n",
       "2  Low income  \n",
       "3  Low income  \n",
       "4  Low income  "
      ]
     },
     "execution_count": 21,
     "metadata": {},
     "output_type": "execute_result"
    }
   ],
   "source": [
    "dataset = pd.read_csv(\"cleaned_data02.csv\")\n",
    "dataset.head()"
   ]
  },
  {
   "cell_type": "code",
   "execution_count": 22,
   "metadata": {},
   "outputs": [
    {
     "data": {
      "text/plain": [
       "(1487, 9)"
      ]
     },
     "execution_count": 22,
     "metadata": {},
     "output_type": "execute_result"
    }
   ],
   "source": [
    "dataset.shape\n",
    "\n"
   ]
  },
  {
   "cell_type": "code",
   "execution_count": 23,
   "metadata": {},
   "outputs": [
    {
     "data": {
      "text/plain": [
       "False"
      ]
     },
     "execution_count": 23,
     "metadata": {},
     "output_type": "execute_result"
    }
   ],
   "source": [
    "dataset.isna().sum()\n",
    "dataset.duplicated().any()"
   ]
  },
  {
   "cell_type": "code",
   "execution_count": 24,
   "metadata": {},
   "outputs": [
    {
     "name": "stderr",
     "output_type": "stream",
     "text": [
      "C:\\Users\\moham\\AppData\\Local\\Programs\\Python\\Python39\\lib\\site-packages\\seaborn\\_decorators.py:36: FutureWarning: Pass the following variable as a keyword arg: x. From version 0.12, the only valid positional argument will be `data`, and passing other arguments without an explicit keyword will result in an error or misinterpretation.\n",
      "C:\\Users\\moham\\AppData\\Local\\Programs\\Python\\Python39\\lib\\site-packages\\seaborn\\_decorators.py:36: FutureWarning: Pass the following variable as a keyword arg: x. From version 0.12, the only valid positional argument will be `data`, and passing other arguments without an explicit keyword will result in an error or misinterpretation.\n"
     ]
    },
    {
     "data": {
      "image/png": "[encoded data removed]",
      "text/plain": [
       "<Figure size 360x360 with 2 Axes>"
      ]
     },
     "metadata": {
      "needs_background": "light"
     },
     "output_type": "display_data"
    }
   ],
   "source": [
    "import seaborn as sns\n",
    "\n",
    "fig, axs = plt.subplots(2, figsize = (5,5))\n",
    "\n",
    "plt1 = sns.boxplot(dataset['Intentional_homicides_per100k'], ax = axs[0])\n",
    "\n",
    "plt2 = sns.boxplot(dataset['year'], ax = axs[1])\n",
    "\n",
    "plt.tight_layout()"
   ]
  },
  {
   "cell_type": "code",
   "execution_count": 25,
   "metadata": {},
   "outputs": [
    {
     "data": {
      "text/plain": [
       "<AxesSubplot:xlabel='Count', ylabel='GDP_us'>"
      ]
     },
     "execution_count": 25,
     "metadata": {},
     "output_type": "execute_result"
    },
    {
     "data": {
      "image/png": "[encoded data removed]",
      "text/plain": [
       "<Figure size 1440x720 with 1 Axes>"
      ]
     },
     "metadata": {
      "needs_background": "light"
     },
     "output_type": "display_data"
    }
   ],
   "source": [
    "sns.histplot(data=dataset, y='GDP_us')"
   ]
  },
  {
   "cell_type": "code",
   "execution_count": 26,
   "metadata": {},
   "outputs": [
    {
     "data": {
      "image/png": "[encoded data removed]",
      "text/plain": [
       "<Figure size 288x576 with 2 Axes>"
      ]
     },
     "metadata": {
      "needs_background": "light"
     },
     "output_type": "display_data"
    }
   ],
   "source": [
    "sns.pairplot(dataset, x_vars='year', y_vars=['GDP_us', 'Intentional_homicides_per100k'], height=4, aspect=1, kind='scatter')\n",
    "\n",
    "plt.show()"
   ]
  },
  {
   "cell_type": "code",
   "execution_count": 27,
   "metadata": {},
   "outputs": [
    {
     "data": {
      "image/png": "[encoded data removed]",
      "text/plain": [
       "<Figure size 1440x720 with 2 Axes>"
      ]
     },
     "metadata": {
      "needs_background": "light"
     },
     "output_type": "display_data"
    }
   ],
   "source": [
    "sns.heatmap(dataset.corr(), annot = True)\n",
    "plt.show()"
   ]
  },
  {
   "cell_type": "markdown",
   "metadata": {},
   "source": [
    "The above Pearson correlation matrix uses multiple independent variables with the dependent variable being 'year'."
   ]
  },
  {
   "cell_type": "markdown",
   "metadata": {},
   "source": [
    "## Ho : The rates of homicide per 100k have not rapidly changed from 2000-2018\n",
    "\n",
    "## H1 : There has been a rapid change (increase or decrease) in homicide rates from 2000-2018"
   ]
  },
  {
   "cell_type": "code",
   "execution_count": 28,
   "metadata": {},
   "outputs": [],
   "source": [
    "from sklearn.model_selection import train_test_split\n",
    "from sklearn.linear_model import LinearRegression\n",
    "from sklearn import metrics"
   ]
  },
  {
   "cell_type": "code",
   "execution_count": 70,
   "metadata": {},
   "outputs": [],
   "source": [
    "#Setting the value for X and Y\n",
    "x = dataset[['GDP_per_capita']]\n",
    "y = dataset['Intentional_homicides_per100k']\n",
    "\n"
   ]
  },
  {
   "cell_type": "code",
   "execution_count": 71,
   "metadata": {},
   "outputs": [],
   "source": [
    "x_train, x_test, y_train, y_test = train_test_split(x, y, test_size = 0.3, random_state = 100)"
   ]
  },
  {
   "cell_type": "code",
   "execution_count": 72,
   "metadata": {},
   "outputs": [
    {
     "data": {
      "text/plain": [
       "LinearRegression()"
      ]
     },
     "execution_count": 72,
     "metadata": {},
     "output_type": "execute_result"
    }
   ],
   "source": [
    "slr = LinearRegression()  \n",
    "slr.fit(x_train, y_train)"
   ]
  },
  {
   "cell_type": "code",
   "execution_count": 73,
   "metadata": {},
   "outputs": [
    {
     "name": "stdout",
     "output_type": "stream",
     "text": [
      "Intercept:  11.663244885095063\n",
      "Coefficient: [-0.00015837]\n"
     ]
    }
   ],
   "source": [
    "#Printing the model coefficients\n",
    "\n",
    "print('Intercept: ', slr.intercept_)\n",
    "print('Coefficient:', slr.coef_)"
   ]
  },
  {
   "cell_type": "code",
   "execution_count": 76,
   "metadata": {},
   "outputs": [
    {
     "name": "stdout",
     "output_type": "stream",
     "text": [
      "Regression Equation: year = 11.663244885095063 + -0.00015837 * N of homicides\n"
     ]
    }
   ],
   "source": [
    "print('Regression Equation: year = 11.663244885095063 + -0.00015837 * N of homicides')"
   ]
  },
  {
   "cell_type": "code",
   "execution_count": 78,
   "metadata": {},
   "outputs": [
    {
     "data": {
      "image/png": "[encoded data removed]",
      "text/plain": [
       "<Figure size 1440x720 with 1 Axes>"
      ]
     },
     "metadata": {
      "needs_background": "light"
     },
     "output_type": "display_data"
    }
   ],
   "source": [
    "#Line of best fit\n",
    "\n",
    "plt.scatter(x_train, y_train)\n",
    "plt.plot(x_train, 11.663244885095063 + -0.00015837*x_train, 'r')\n",
    "plt.show()"
   ]
  },
  {
   "cell_type": "code",
   "execution_count": 79,
   "metadata": {},
   "outputs": [],
   "source": [
    "#Prediction of Test and Training set result  \n",
    "\n",
    "y_pred_slr= slr.predict(x_test)  \n",
    "x_pred_slr= slr.predict(x_train)"
   ]
  },
  {
   "cell_type": "code",
   "execution_count": 80,
   "metadata": {},
   "outputs": [
    {
     "name": "stdout",
     "output_type": "stream",
     "text": [
      "Prediction for test set: [11.41198368  8.44713959  9.17393607 10.93309062 10.46534362 11.23929565\n",
      " 11.37228442 10.32615122 10.7400533  10.2224939  11.55279451 10.61118153\n",
      "  9.71345485 11.33394264 11.39865862 10.1705622  11.49371041 11.11035177\n",
      "  9.39293453 10.68009564  9.91165572 11.20429083  9.83617932  8.2631047\n",
      " 11.19648593 10.67795412 11.38548826 10.83436836 11.29670947 10.66384952\n",
      " 10.91195853  9.65868727  8.41827607  9.28075643 10.20916446  9.82334593\n",
      " 11.20099483 10.78141764 10.4974446  10.44251879 11.39523916  8.68839429\n",
      "  9.98289073 10.93860868 11.06807398 10.40166918  9.47585866 11.5099538\n",
      " 11.149928    9.29907309 10.19440315 10.80366879  9.91577598  9.89686437\n",
      "  4.08843055  8.81766138 10.82133111 11.30086071 11.39633837 11.39313814\n",
      " 10.45311981 10.07900437  9.92295129  7.72576071  9.79830357  8.87329953\n",
      "  8.81851755  9.25040589 10.74206153  4.58895881 11.38673102  9.16941936\n",
      "  9.90651559 11.27972441 10.1156182  10.48910565 10.81955373  9.02670556\n",
      " 10.59843325 11.48668867  9.36301909 10.4965213  10.69603474 10.26875707\n",
      " 11.2503581  11.3567694   4.31936896  9.67827292 10.41211056  9.98596933\n",
      " 11.37528101  9.93139694  9.83305194 11.55986326 11.37746294  9.48593631\n",
      " 11.23530045 11.39936539  9.570307   10.00358931  9.48594026 10.67373167\n",
      " 10.43012502 11.03277131  9.59780799 11.49505953 11.22912089 11.00477219\n",
      "  8.4806681   9.99414731 10.23340335  9.85621647 10.78288535  9.85696253\n",
      " 10.5213201  10.9707018  10.03728088 10.08156257 10.3737108  10.26633064\n",
      "  1.6758947   9.27095324  9.12254651 10.75293363  7.65350548 10.12679212\n",
      "  9.94282326 11.55386242 10.99427483  9.69492188 10.15300134 10.71001309\n",
      "  9.94679065 10.89224211 11.32244664 10.94231999  9.2804025  11.33766483\n",
      " 10.56334063 11.18109251 10.82179012 10.82471782 11.29909688 11.33619162\n",
      "  4.33103354 10.33806863 11.56716221 10.71077904 10.83877945  5.05729557\n",
      " 10.35589423  5.74358245  8.03704196  9.82827553  9.30328802 10.2281158\n",
      " 10.8402838   8.02304243 11.34460114  5.91019486  0.73133521  9.09492103\n",
      " 11.49340102  9.82287024 11.0735698   9.02930016 11.15488393 10.48927231\n",
      " 10.45858249 10.60023148  9.19303012 10.93312366 10.45557667  5.87070469\n",
      " 11.249699   11.3138055   8.9451961  10.25827152 11.45237098 11.55524279\n",
      " 10.14838208 11.44103538 11.03377716 11.20222227 10.46257479  9.84387297\n",
      " 11.22092973  8.88513206 10.07660532 11.32193134 10.95809995 10.19762757\n",
      " 10.36666002 11.16792052 11.23026746 10.39100509  8.70501817 10.0712581\n",
      "  9.323495    9.49507827 11.32959266  9.89863975 11.27081121 10.63094443\n",
      " 10.94341847 11.25286231 11.05928071 10.83677572 10.39030547 11.50401752\n",
      " 10.2134082  10.4524014  10.00717153 10.55180924 11.08648194 11.51362425\n",
      " 11.15673084 11.19873252  9.72800425  8.38484593  2.47454451  8.47923609\n",
      "  9.71357731  9.7034526  10.73892172 11.04904998 11.22019397 10.93239979\n",
      " 11.04114131 11.3318649  10.16504281 10.31735629 11.09024779 11.03082518\n",
      " 11.33076358 11.4125614  11.36131028  7.78248793 10.79778915 10.56835542\n",
      " 11.24819016 10.04353715 10.55008128 10.40252522 10.59665878  9.00548631\n",
      " 11.15441985 11.43836329  8.62366832  9.61821849 10.46682834 10.95959001\n",
      " 11.34431176 10.38940526 10.48516171 10.02580433 11.26647241 10.70303961\n",
      " 11.30542271 10.28218466 10.76882905 10.90937283  9.91858205 10.11409932\n",
      " 10.4017727   9.77618764 10.00104747  6.01027202 10.79772503  9.07665359\n",
      " 10.34755207 10.30997887 11.36632172  4.6477926  10.61569442  9.5557822\n",
      "  7.98530091 10.54930119 11.34424933  9.89448694 11.43976824 10.51153043\n",
      " 10.89864792 10.37716372 10.04666692 10.48036676  9.99603875  9.84415367\n",
      " 10.23947007 11.38661613  7.2594948  11.29748522  9.91721444  6.47713043\n",
      "  9.83077942 11.40678475  9.78067451 11.44717095 10.23336771 11.17483436\n",
      " 10.33586102 11.3737703  11.50114159  9.91962076 11.47276183 10.60370755\n",
      " 11.19443908  8.58612147 11.49293493  9.75034948 10.77222517 11.36278525\n",
      " 10.12487938 11.09457418  9.78130634 10.61513903  9.89151285 10.76149211\n",
      " 10.05747264  9.51847492 11.28396599  9.06075162 11.27326483 10.79084373\n",
      " 10.48394784 11.05820164  5.62637119 10.98521049 10.64013071 11.51937297\n",
      "  9.03909525 10.28452283  9.50848948  9.60096112 10.8623438  11.12985447\n",
      "  9.59303679 10.46731045 10.92561549 10.25425062 11.19802015 11.43089797\n",
      " 10.02355273 11.20517525 11.52453416  9.01290815 11.40628582  9.28138899\n",
      "  5.29390504 10.31786015 10.34527676 11.25733832 11.47974944  9.81685392\n",
      " 11.54589727 11.1745781  10.93931486  7.01324693 11.05371797 11.43734096\n",
      " 10.69809802  7.84214173  9.99691909 10.16434743 11.13254068 11.55823865\n",
      " 10.63902242 10.81394237 10.3466331   8.90070263  9.24436565  6.08674417\n",
      " 10.43455222  8.47504229  7.2561079  10.50781931 11.34217021  9.6492835\n",
      " 10.8625479  10.65044929 10.41021883 10.14797481 10.88064058 10.37149794\n",
      "  9.28366588  9.29748861 10.23230553 10.36149042  8.41532556 11.41029974\n",
      " 11.33268369 10.61874007 10.2227756  10.84494288 11.08530118 10.6199155\n",
      " 11.43802611 11.27512593 10.60608504  9.47573112 10.63927138  9.26186402\n",
      "  9.89526009 11.18844544 11.57890632 10.64782145 11.19437576 11.26719894\n",
      "  9.43753216 10.50670465 10.05944259 10.31601306 10.94690895 10.45420849\n",
      "  9.52691632  6.08522254  9.6752622  10.99198331 11.20031843 10.30222398\n",
      " 10.5177669  10.5687871  11.34856377 10.5507195  11.42710969 11.29449304\n",
      " 11.17268107 10.07026787  9.20896773  9.37127459 10.00406152  9.0317807\n",
      " 10.83173323 10.98778835 10.60048052  9.88014357 10.36014251 10.14156415\n",
      " 10.19774983 10.7421511  11.22521137 10.57941949 11.38624155 11.35834992\n",
      "  9.90271404 10.66603245  9.76071712]\n"
     ]
    }
   ],
   "source": [
    "print(\"Prediction for test set: {}\".format(y_pred_slr))"
   ]
  },
  {
   "cell_type": "code",
   "execution_count": 81,
   "metadata": {},
   "outputs": [
    {
     "data": {
      "text/html": [
       "<div>\n",
       "<style scoped>\n",
       "    .dataframe tbody tr th:only-of-type {\n",
       "        vertical-align: middle;\n",
       "    }\n",
       "\n",
       "    .dataframe tbody tr th {\n",
       "        vertical-align: top;\n",
       "    }\n",
       "\n",
       "    .dataframe thead th {\n",
       "        text-align: right;\n",
       "    }\n",
       "</style>\n",
       "<table border=\"1\" class=\"dataframe\">\n",
       "  <thead>\n",
       "    <tr style=\"text-align: right;\">\n",
       "      <th></th>\n",
       "      <th>Actual value</th>\n",
       "      <th>Predicted value</th>\n",
       "    </tr>\n",
       "  </thead>\n",
       "  <tbody>\n",
       "    <tr>\n",
       "      <th>258</th>\n",
       "      <td>0.559635</td>\n",
       "      <td>11.411984</td>\n",
       "    </tr>\n",
       "    <tr>\n",
       "      <th>57</th>\n",
       "      <td>6.033310</td>\n",
       "      <td>8.447140</td>\n",
       "    </tr>\n",
       "    <tr>\n",
       "      <th>225</th>\n",
       "      <td>28.849832</td>\n",
       "      <td>9.173936</td>\n",
       "    </tr>\n",
       "    <tr>\n",
       "      <th>1335</th>\n",
       "      <td>0.961714</td>\n",
       "      <td>10.933091</td>\n",
       "    </tr>\n",
       "    <tr>\n",
       "      <th>499</th>\n",
       "      <td>4.561981</td>\n",
       "      <td>10.465344</td>\n",
       "    </tr>\n",
       "    <tr>\n",
       "      <th>...</th>\n",
       "      <td>...</td>\n",
       "      <td>...</td>\n",
       "    </tr>\n",
       "    <tr>\n",
       "      <th>739</th>\n",
       "      <td>10.502697</td>\n",
       "      <td>11.386242</td>\n",
       "    </tr>\n",
       "    <tr>\n",
       "      <th>561</th>\n",
       "      <td>1.148705</td>\n",
       "      <td>11.358350</td>\n",
       "    </tr>\n",
       "    <tr>\n",
       "      <th>531</th>\n",
       "      <td>3.745809</td>\n",
       "      <td>9.902714</td>\n",
       "    </tr>\n",
       "    <tr>\n",
       "      <th>1098</th>\n",
       "      <td>8.727260</td>\n",
       "      <td>10.666032</td>\n",
       "    </tr>\n",
       "    <tr>\n",
       "      <th>1084</th>\n",
       "      <td>7.873625</td>\n",
       "      <td>9.760717</td>\n",
       "    </tr>\n",
       "  </tbody>\n",
       "</table>\n",
       "<p>447 rows × 2 columns</p>\n",
       "</div>"
      ],
      "text/plain": [
       "      Actual value  Predicted value\n",
       "258       0.559635        11.411984\n",
       "57        6.033310         8.447140\n",
       "225      28.849832         9.173936\n",
       "1335      0.961714        10.933091\n",
       "499       4.561981        10.465344\n",
       "...            ...              ...\n",
       "739      10.502697        11.386242\n",
       "561       1.148705        11.358350\n",
       "531       3.745809         9.902714\n",
       "1098      8.727260        10.666032\n",
       "1084      7.873625         9.760717\n",
       "\n",
       "[447 rows x 2 columns]"
      ]
     },
     "execution_count": 81,
     "metadata": {},
     "output_type": "execute_result"
    }
   ],
   "source": [
    "#Actual value and the predicted value\n",
    "\n",
    "slr_diff = pd.DataFrame({'Actual value': y_test, 'Predicted value': y_pred_slr})\n",
    "slr_diff"
   ]
  },
  {
   "cell_type": "code",
   "execution_count": 83,
   "metadata": {},
   "outputs": [
    {
     "name": "stderr",
     "output_type": "stream",
     "text": [
      "C:\\Users\\moham\\AppData\\Local\\Programs\\Python\\Python39\\lib\\site-packages\\sklearn\\base.py:450: UserWarning:\n",
      "\n",
      "X does not have valid feature names, but LinearRegression was fitted with feature names\n",
      "\n"
     ]
    },
    {
     "data": {
      "text/plain": [
       "array([7.59731936])"
      ]
     },
     "execution_count": 83,
     "metadata": {},
     "output_type": "execute_result"
    }
   ],
   "source": [
    "# Predict avg homicides per 100k for any given year\n",
    "slr.predict([[25674]])"
   ]
  },
  {
   "cell_type": "code",
   "execution_count": 84,
   "metadata": {},
   "outputs": [
    {
     "name": "stdout",
     "output_type": "stream",
     "text": [
      "R squared value of the model: 1.00\n"
     ]
    }
   ],
   "source": [
    "# print the R-squared value for the model\n",
    "\n",
    "from sklearn.metrics import accuracy_score\n",
    "\n",
    "print('R squared value of the model: {:.2f}'.format(slr.score(x,y)*100))"
   ]
  },
  {
   "cell_type": "code",
   "execution_count": 40,
   "metadata": {},
   "outputs": [
    {
     "name": "stdout",
     "output_type": "stream",
     "text": [
      "Mean Absolute Error: 8.622248557264948\n",
      "Mean Square Error: 159.225969429557\n",
      "Root Mean Square Error: 12.618477302335533\n"
     ]
    }
   ],
   "source": [
    "# 0 means the model is perfect. Therefore the value should be as close to 0 as possible\n",
    "\n",
    "meanAbErr = metrics.mean_absolute_error(y_test, y_pred_slr)\n",
    "meanSqErr = metrics.mean_squared_error(y_test, y_pred_slr)\n",
    "rootMeanSqErr = np.sqrt(metrics.mean_squared_error(y_test, y_pred_slr))\n",
    "print('Mean Absolute Error:', meanAbErr)\n",
    "print('Mean Square Error:', meanSqErr)\n",
    "print('Root Mean Square Error:', rootMeanSqErr)"
   ]
  },
  {
   "cell_type": "code",
   "execution_count": 41,
   "metadata": {},
   "outputs": [],
   "source": [
    "import statsmodels.api as sm\n",
    "\n",
    "# adding a constant to get an intercept\n",
    "x_train_sm = sm.add_constant(x_train)"
   ]
  },
  {
   "cell_type": "code",
   "execution_count": 42,
   "metadata": {},
   "outputs": [],
   "source": [
    "# fitting the regression line using Ordinary Least Square\n",
    "lr = sm.OLS(y_train, x_train_sm).fit()"
   ]
  },
  {
   "cell_type": "code",
   "execution_count": 43,
   "metadata": {},
   "outputs": [
    {
     "data": {
      "text/plain": [
       "const    157.227578\n",
       "year      -0.073258\n",
       "dtype: float64"
      ]
     },
     "execution_count": 43,
     "metadata": {},
     "output_type": "execute_result"
    }
   ],
   "source": [
    "# Printing the params\n",
    "lr.params"
   ]
  },
  {
   "cell_type": "code",
   "execution_count": 44,
   "metadata": {},
   "outputs": [
    {
     "data": {
      "text/html": [
       "<table class=\"simpletable\">\n",
       "<caption>OLS Regression Results</caption>\n",
       "<tr>\n",
       "  <th>Dep. Variable:</th>    <td>Intentional_homicides_per100k</td> <th>  R-squared:         </th> <td>   0.001</td>\n",
       "</tr>\n",
       "<tr>\n",
       "  <th>Model:</th>                         <td>OLS</td>              <th>  Adj. R-squared:    </th> <td>  -0.000</td>\n",
       "</tr>\n",
       "<tr>\n",
       "  <th>Method:</th>                   <td>Least Squares</td>         <th>  F-statistic:       </th> <td>  0.8272</td>\n",
       "</tr>\n",
       "<tr>\n",
       "  <th>Date:</th>                   <td>Tue, 05 Apr 2022</td>        <th>  Prob (F-statistic):</th>  <td> 0.363</td> \n",
       "</tr>\n",
       "<tr>\n",
       "  <th>Time:</th>                       <td>17:13:17</td>            <th>  Log-Likelihood:    </th> <td> -4176.1</td>\n",
       "</tr>\n",
       "<tr>\n",
       "  <th>No. Observations:</th>            <td>  1040</td>             <th>  AIC:               </th> <td>   8356.</td>\n",
       "</tr>\n",
       "<tr>\n",
       "  <th>Df Residuals:</th>                <td>  1038</td>             <th>  BIC:               </th> <td>   8366.</td>\n",
       "</tr>\n",
       "<tr>\n",
       "  <th>Df Model:</th>                    <td>     1</td>             <th>                     </th>     <td> </td>   \n",
       "</tr>\n",
       "<tr>\n",
       "  <th>Covariance Type:</th>            <td>nonrobust</td>           <th>                     </th>     <td> </td>   \n",
       "</tr>\n",
       "</table>\n",
       "<table class=\"simpletable\">\n",
       "<tr>\n",
       "    <td></td>       <th>coef</th>     <th>std err</th>      <th>t</th>      <th>P>|t|</th>  <th>[0.025</th>    <th>0.975]</th>  \n",
       "</tr>\n",
       "<tr>\n",
       "  <th>const</th> <td>  157.2276</td> <td>  161.818</td> <td>    0.972</td> <td> 0.331</td> <td> -160.300</td> <td>  474.755</td>\n",
       "</tr>\n",
       "<tr>\n",
       "  <th>year</th>  <td>   -0.0733</td> <td>    0.081</td> <td>   -0.909</td> <td> 0.363</td> <td>   -0.231</td> <td>    0.085</td>\n",
       "</tr>\n",
       "</table>\n",
       "<table class=\"simpletable\">\n",
       "<tr>\n",
       "  <th>Omnibus:</th>       <td>617.931</td> <th>  Durbin-Watson:     </th> <td>   1.979</td>\n",
       "</tr>\n",
       "<tr>\n",
       "  <th>Prob(Omnibus):</th> <td> 0.000</td>  <th>  Jarque-Bera (JB):  </th> <td>4695.156</td>\n",
       "</tr>\n",
       "<tr>\n",
       "  <th>Skew:</th>          <td> 2.732</td>  <th>  Prob(JB):          </th> <td>    0.00</td>\n",
       "</tr>\n",
       "<tr>\n",
       "  <th>Kurtosis:</th>      <td>11.860</td>  <th>  Cond. No.          </th> <td>7.81e+05</td>\n",
       "</tr>\n",
       "</table><br/><br/>Notes:<br/>[1] Standard Errors assume that the covariance matrix of the errors is correctly specified.<br/>[2] The condition number is large, 7.81e+05. This might indicate that there are<br/>strong multicollinearity or other numerical problems."
      ],
      "text/plain": [
       "<class 'statsmodels.iolib.summary.Summary'>\n",
       "\"\"\"\n",
       "                                  OLS Regression Results                                 \n",
       "=========================================================================================\n",
       "Dep. Variable:     Intentional_homicides_per100k   R-squared:                       0.001\n",
       "Model:                                       OLS   Adj. R-squared:                 -0.000\n",
       "Method:                            Least Squares   F-statistic:                    0.8272\n",
       "Date:                           Tue, 05 Apr 2022   Prob (F-statistic):              0.363\n",
       "Time:                                   17:13:17   Log-Likelihood:                -4176.1\n",
       "No. Observations:                           1040   AIC:                             8356.\n",
       "Df Residuals:                               1038   BIC:                             8366.\n",
       "Df Model:                                      1                                         \n",
       "Covariance Type:                       nonrobust                                         \n",
       "==============================================================================\n",
       "                 coef    std err          t      P>|t|      [0.025      0.975]\n",
       "------------------------------------------------------------------------------\n",
       "const        157.2276    161.818      0.972      0.331    -160.300     474.755\n",
       "year          -0.0733      0.081     -0.909      0.363      -0.231       0.085\n",
       "==============================================================================\n",
       "Omnibus:                      617.931   Durbin-Watson:                   1.979\n",
       "Prob(Omnibus):                  0.000   Jarque-Bera (JB):             4695.156\n",
       "Skew:                           2.732   Prob(JB):                         0.00\n",
       "Kurtosis:                      11.860   Cond. No.                     7.81e+05\n",
       "==============================================================================\n",
       "\n",
       "Notes:\n",
       "[1] Standard Errors assume that the covariance matrix of the errors is correctly specified.\n",
       "[2] The condition number is large, 7.81e+05. This might indicate that there are\n",
       "strong multicollinearity or other numerical problems.\n",
       "\"\"\""
      ]
     },
     "execution_count": 44,
     "metadata": {},
     "output_type": "execute_result"
    }
   ],
   "source": [
    "lr.summary()"
   ]
  },
  {
   "cell_type": "markdown",
   "metadata": {},
   "source": [
    "## The main statistics we are concerned with to check a viable model\n",
    "### The coefficiens and P-Value (sig. value)\n",
    "### R-Squared Value\n",
    "### F-Statistic and its significance\n",
    "\n",
    "#### Our coefficient for the 'Year' is -0.0733 and its corresponding P-Value is > 0.05 therefore we can accept the null hypothesis"
   ]
  },
  {
   "cell_type": "markdown",
   "metadata": {},
   "source": [
    "## R-Sqaured Value is 0.001 which means 01% of the years variance can be explained by the 'homicides per 100k'.\n",
    "\n",
    "## The F-Statistic has a P-Value of > 0.05 which tells us that the model fit is not statistically significant.\n",
    "\n",
    "## From the parameters we produced the values of the intercept and the slope for the straight line. The equation of the line is\n",
    " \n",
    " ### year = 157.22 + -0.07 * 2017\n"
   ]
  },
  {
   "cell_type": "code",
   "execution_count": 45,
   "metadata": {},
   "outputs": [
    {
     "data": {
      "image/png": "[encoded data removed]",
      "text/plain": [
       "<Figure size 1440x720 with 1 Axes>"
      ]
     },
     "metadata": {
      "needs_background": "light"
     },
     "output_type": "display_data"
    }
   ],
   "source": [
    "# visualize the regression line\n",
    "plt.scatter(x_train, y_train)\n",
    "plt.plot(x_train, 157.22 + -0.07*x_train, 'g')\n",
    "plt.show()"
   ]
  },
  {
   "cell_type": "code",
   "execution_count": 46,
   "metadata": {},
   "outputs": [
    {
     "name": "stdout",
     "output_type": "stream",
     "text": [
      "513489702523.7628\n",
      "Prediction for test set: [ 5.47930065e+11  4.90578035e+11  2.29113939e+11  5.26642977e+11\n",
      "  5.06545706e+11  5.12967965e+11  5.19449179e+11  6.78092468e+10\n",
      "  5.43907757e+11  3.83296228e+11  5.20438718e+11  5.09586839e+11\n",
      "  5.01724596e+11  4.46088049e+11  4.59291478e+11  6.13976093e+11\n",
      "  5.14267608e+11  4.71060167e+11  5.56374835e+11  5.92248408e+11\n",
      "  4.88196668e+11  4.93905160e+11  5.26785346e+11  5.50573118e+11\n",
      "  5.34573544e+11  3.41350789e+11  5.10580817e+11  5.39464771e+11\n",
      "  5.16178807e+11  9.81195745e+10  5.20130371e+11  4.32947066e+11\n",
      "  5.82638541e+11  2.58957990e+11  5.99217038e+11  4.97825797e+11\n",
      "  5.18085100e+11  5.30306468e+11  4.62801165e+11  5.11349091e+11\n",
      "  5.46493905e+11  5.09573194e+11  5.41648389e+11  4.57347493e+11\n",
      "  4.99890128e+11 -1.28002113e+11  2.55644645e+11  4.84863589e+11\n",
      "  4.90742249e+11  2.36142472e+11  2.85193629e+11  4.92317171e+11\n",
      "  4.96271113e+11  4.43538559e+11  5.59960732e+11  5.67298619e+11\n",
      "  4.75814084e+11  5.31881299e+11  4.91628396e+11  4.63970487e+11\n",
      "  3.64936089e+11  5.06432421e+11  2.83113428e+11  5.65236040e+11\n",
      "  5.22399445e+11  5.49749407e+11  5.49076041e+11  5.19701502e+11\n",
      "  1.01304200e+11  5.61782590e+11  6.61202422e+11  5.51075065e+11\n",
      "  5.03211419e+11  5.14758764e+11  5.17365960e+11  5.47323083e+11\n",
      "  5.45941193e+11  5.35107914e+11  1.01570218e+11  4.83275157e+11\n",
      "  2.12737603e+11  6.34939910e+11  5.45986876e+11  4.75816083e+11\n",
      "  4.94529310e+11  4.50296981e+11  5.42482039e+11  5.94970328e+11\n",
      " -3.55229170e+10  5.19097936e+11  5.33914754e+11  5.21081891e+11\n",
      "  5.61399434e+11  5.15488614e+11  5.14752333e+11  2.69634114e+11\n",
      "  5.33672945e+11  5.16991572e+11  2.98840306e+11  4.93281955e+11\n",
      "  4.77332575e+11  6.28363774e+11  5.68054794e+11  3.91828712e+11\n",
      "  4.36841771e+11  5.33222825e+11  5.04615582e+11  4.70018320e+11\n",
      "  2.25687368e+11  2.69478598e+11  5.47738057e+11  2.60657332e+11\n",
      "  3.71521528e+11  5.26811649e+11  6.16700034e+11  5.08023117e+11\n",
      "  5.05146990e+11  4.93069912e+11  4.71018318e+11  5.16209561e+11\n",
      "  5.40208946e+11  4.89473665e+11  4.89725518e+11  4.51229493e+11\n",
      "  3.99558368e+11  4.40994102e+11  4.15941381e+11  4.91212971e+11\n",
      "  4.69645948e+11  5.68280120e+11  5.40951626e+11  6.05874051e+11\n",
      "  4.45267409e+11  4.51825854e+11  5.17109060e+11  4.99711157e+11\n",
      "  2.52267379e+11  5.24543288e+11  2.31435254e+11  5.42280137e+11\n",
      "  1.87680892e+11  5.30504027e+11  5.15694572e+11  5.09231661e+11\n",
      "  5.12455636e+11  4.34101587e+11  5.17957615e+11  5.64063433e+11\n",
      "  5.30467808e+11  5.14573549e+11 -9.82701608e+10  5.45189075e+11\n",
      "  3.66496861e+11  2.14524433e+11  5.56142283e+11  3.17662162e+11\n",
      "  5.37766281e+11  5.14604472e+11  5.06184890e+11  5.53651350e+11\n",
      "  5.53951925e+11  3.99108439e+11  5.47057005e+11  5.24132855e+11\n",
      "  5.11084100e+11  5.62488352e+11  5.57976463e+11  4.96272044e+11\n",
      "  5.21637087e+11  5.46070898e+11  4.69618723e+11  4.34336526e+11\n",
      "  5.35051658e+11  5.40561992e+11  5.20668486e+11  5.06765879e+11\n",
      "  2.98319786e+11  5.04658171e+11  5.15839911e+11  5.09160169e+11\n",
      "  5.02344952e+11  5.12037752e+11  3.98707780e+11  4.23937979e+11\n",
      "  5.38130400e+11  4.27805274e+11  5.33293082e+11  4.79822843e+11\n",
      "  4.27396969e+11  5.17925120e+11 -1.82957557e+11  4.64687015e+11\n",
      "  1.04610286e+11  4.94071779e+11  4.90329514e+11  4.57696343e+11\n",
      "  3.48611804e+11  4.62980669e+11  5.18989322e+11  4.99502851e+11\n",
      "  4.19598034e+11  5.18156988e+11  4.26201374e+11  6.69950433e+10\n",
      "  4.74908216e+11 -3.72795849e+06  5.29221239e+11  5.48205544e+11\n",
      "  3.80672819e+11  5.47630393e+11  1.41061117e+11  6.01655022e+11\n",
      "  2.60948850e+11 -2.16092219e+11  5.22788430e+11  5.28020246e+11\n",
      "  4.10505295e+11  4.97064195e+11  4.16176052e+11  5.36968410e+11\n",
      "  5.32424061e+11  4.84578593e+11  5.22831016e+11  2.39187367e+11\n",
      "  5.60969031e+11  5.44027855e+11  5.18049460e+11  5.03984783e+11\n",
      "  4.96030535e+11  4.14913998e+11  5.03845709e+11  1.11782683e+11\n",
      "  4.96028922e+11  4.78645997e+11  4.41161518e+11  6.34920540e+11\n",
      "  5.34104956e+11  5.76975345e+11  5.39812132e+11  5.34486755e+11\n",
      "  5.05169153e+11  5.48318260e+11  5.08363986e+11  3.98848961e+11\n",
      "  6.06681495e+11  5.57756454e+11  5.03503521e+11  5.03718122e+11\n",
      "  5.15128436e+11  5.11811659e+11  1.71734568e+11  4.90770402e+11\n",
      "  4.15035571e+11  5.11135082e+11  2.10729120e+11  5.12313352e+11\n",
      "  5.33316535e+11 -1.42858293e+10  4.24132815e+11  4.54610387e+11\n",
      "  5.44676905e+11  4.91500894e+11  5.53758182e+11  1.07783175e+11\n",
      " -6.78583095e+09  5.49600303e+11  4.15322562e+11  5.37048455e+11\n",
      "  5.21846275e+11  5.90219384e+11  5.56668918e+11  1.45422492e+11\n",
      "  5.17411899e+11  5.59892409e+11  4.25330540e+11  2.24668381e+11\n",
      "  5.79785346e+11  5.21886520e+11  4.22888863e+11  5.50796167e+11\n",
      "  5.44840086e+11  5.31828271e+11  5.24436813e+11  4.33698534e+11\n",
      "  5.01382401e+11  4.48450195e+11  4.20510732e+11  4.42612343e+11\n",
      "  5.54125965e+11  5.11959391e+11  5.38323454e+11  5.05702958e+11\n",
      "  4.78694395e+11  5.38990531e+11  4.72006396e+11  5.48523486e+11\n",
      "  4.59447591e+11  5.01696741e+11  5.49796878e+11  4.60828062e+11\n",
      "  5.55658632e+11  4.58005541e+11  5.17232695e+11  5.44876197e+11\n",
      "  5.18321303e+11 -1.87631806e+11  5.14259509e+11  6.04468613e+11\n",
      "  4.88150810e+11  5.07889988e+11  4.25953539e+11  2.55417198e+11\n",
      "  5.19950618e+11  3.94971022e+11  3.56235478e+11  1.08825518e+11\n",
      "  4.25823543e+11  4.58068464e+11  2.78261449e+11  5.18266662e+11\n",
      "  5.29408402e+11  5.12322094e+11  5.30808224e+11  5.41399249e+11\n",
      "  1.78209983e+11  3.87644246e+11  5.50647487e+11  5.44137859e+11\n",
      "  4.19453489e+11  5.25228994e+11  4.97559149e+11  5.68691546e+11\n",
      "  5.11238404e+11  5.84086277e+11  5.44875503e+11  4.99734708e+11\n",
      "  5.52915253e+11  5.14739096e+11  4.47188326e+11  5.12395285e+11\n",
      "  5.02897832e+11  5.28695822e+11  4.15541707e+11  5.25530656e+11\n",
      "  5.22404344e+11  4.17195003e+11  5.36926362e+11  2.75956579e+11\n",
      "  5.48548723e+11  3.91314440e+11  2.59265224e+11  6.10703896e+11\n",
      "  4.93638698e+11  5.14076715e+11  4.90235511e+11  3.90019252e+11\n",
      "  5.17171419e+11  5.55145143e+11  4.68909677e+11  5.17230190e+11\n",
      "  4.09548742e+11  5.53958640e+11  5.43322414e+11  5.03497822e+11\n",
      "  5.02349414e+11  5.09057840e+11  2.75922289e+11  4.85748927e+11\n",
      "  5.86039797e+11  5.08084595e+11  5.18432294e+11  5.42321439e+11\n",
      "  2.02593039e+11  4.78583446e+11  4.21540132e+11  4.85450188e+11\n",
      "  4.43848561e+11  4.35298245e+11  5.38600469e+11  5.31454366e+11\n",
      "  4.84494849e+11  2.60505237e+11  4.43813843e+11  5.04545997e+11\n",
      "  4.10351329e+11  5.09140300e+11  9.54235645e+10  5.04763976e+11\n",
      "  5.15791625e+11  5.20940314e+11  4.27822473e+11  5.23161851e+11\n",
      "  5.20328198e+11  4.06774794e+11  5.23950368e+11  5.45126768e+11\n",
      "  4.79301297e+11  4.93648150e+11  5.44689155e+11  4.28544914e+11\n",
      " -2.09287059e+11  4.42733700e+11  3.80809116e+11  4.11988725e+11\n",
      "  5.11567433e+11  5.14765640e+11  5.32166590e+11  5.31557316e+11\n",
      "  6.44646020e+11  4.86385528e+11  1.56532450e+11  5.52384685e+11\n",
      "  5.33830441e+11  4.67047890e+11  3.54294715e+11  5.61614893e+11\n",
      "  5.48892115e+11  4.85360827e+11  5.04459508e+11  4.11095130e+11\n",
      "  5.01656127e+11  1.34906236e+11  5.01390118e+11  5.37945527e+11\n",
      "  5.20735130e+11  5.07907524e+11  4.85335683e+11  2.16396999e+11\n",
      "  5.49308917e+11  5.84223077e+11  4.70447389e+11  5.22007476e+11\n",
      "  5.43638555e+11  6.15832870e+11  5.00065293e+11  4.95291088e+11\n",
      "  5.21929170e+11  4.95989008e+11  5.55166638e+11  5.23003473e+11\n",
      "  5.27184622e+11 -2.11916783e+11  5.57461245e+11  5.38460150e+11\n",
      "  4.81556262e+11  4.31084619e+11  4.41374413e+11]\n"
     ]
    },
    {
     "data": {
      "text/html": [
       "<div>\n",
       "<style scoped>\n",
       "    .dataframe tbody tr th:only-of-type {\n",
       "        vertical-align: middle;\n",
       "    }\n",
       "\n",
       "    .dataframe tbody tr th {\n",
       "        vertical-align: top;\n",
       "    }\n",
       "\n",
       "    .dataframe thead th {\n",
       "        text-align: right;\n",
       "    }\n",
       "</style>\n",
       "<table border=\"1\" class=\"dataframe\">\n",
       "  <thead>\n",
       "    <tr style=\"text-align: right;\">\n",
       "      <th></th>\n",
       "      <th>Actual value</th>\n",
       "      <th>Predicted value</th>\n",
       "    </tr>\n",
       "  </thead>\n",
       "  <tbody>\n",
       "    <tr>\n",
       "      <th>258</th>\n",
       "      <td>1.208030e+10</td>\n",
       "      <td>5.479301e+11</td>\n",
       "    </tr>\n",
       "    <tr>\n",
       "      <th>57</th>\n",
       "      <td>5.580000e+11</td>\n",
       "      <td>4.905780e+11</td>\n",
       "    </tr>\n",
       "    <tr>\n",
       "      <th>225</th>\n",
       "      <td>2.460000e+12</td>\n",
       "      <td>2.291139e+11</td>\n",
       "    </tr>\n",
       "    <tr>\n",
       "      <th>1335</th>\n",
       "      <td>3.668400e+08</td>\n",
       "      <td>5.266430e+11</td>\n",
       "    </tr>\n",
       "    <tr>\n",
       "      <th>499</th>\n",
       "      <td>1.224351e+10</td>\n",
       "      <td>5.065457e+11</td>\n",
       "    </tr>\n",
       "    <tr>\n",
       "      <th>...</th>\n",
       "      <td>...</td>\n",
       "      <td>...</td>\n",
       "    </tr>\n",
       "    <tr>\n",
       "      <th>739</th>\n",
       "      <td>1.817052e+08</td>\n",
       "      <td>5.574612e+11</td>\n",
       "    </tr>\n",
       "    <tr>\n",
       "      <th>561</th>\n",
       "      <td>1.350177e+09</td>\n",
       "      <td>5.384602e+11</td>\n",
       "    </tr>\n",
       "    <tr>\n",
       "      <th>531</th>\n",
       "      <td>7.786559e+08</td>\n",
       "      <td>4.815563e+11</td>\n",
       "    </tr>\n",
       "    <tr>\n",
       "      <th>1098</th>\n",
       "      <td>2.620000e+11</td>\n",
       "      <td>4.310846e+11</td>\n",
       "    </tr>\n",
       "    <tr>\n",
       "      <th>1084</th>\n",
       "      <td>1.920000e+11</td>\n",
       "      <td>4.413744e+11</td>\n",
       "    </tr>\n",
       "  </tbody>\n",
       "</table>\n",
       "<p>447 rows × 2 columns</p>\n",
       "</div>"
      ],
      "text/plain": [
       "      Actual value  Predicted value\n",
       "258   1.208030e+10     5.479301e+11\n",
       "57    5.580000e+11     4.905780e+11\n",
       "225   2.460000e+12     2.291139e+11\n",
       "1335  3.668400e+08     5.266430e+11\n",
       "499   1.224351e+10     5.065457e+11\n",
       "...            ...              ...\n",
       "739   1.817052e+08     5.574612e+11\n",
       "561   1.350177e+09     5.384602e+11\n",
       "531   7.786559e+08     4.815563e+11\n",
       "1098  2.620000e+11     4.310846e+11\n",
       "1084  1.920000e+11     4.413744e+11\n",
       "\n",
       "[447 rows x 2 columns]"
      ]
     },
     "execution_count": 46,
     "metadata": {},
     "output_type": "execute_result"
    }
   ],
   "source": [
    "datasetMLR = pd.read_csv(\"cleaned_data02.csv\")\n",
    "datasetMLR.head()\n",
    "x = datasetMLR[['Intentional_homicides_per100k', 'Suicide_mortality_rate_per100k']]\n",
    "y = datasetMLR['GDP_us']\n",
    "x_train, x_test, y_train, y_test= train_test_split(x, y, test_size= 0.3, random_state=100)\n",
    "mlr= LinearRegression()  \n",
    "mlr.fit(x_train, y_train)\n",
    "\n",
    "#Printing the model coefficients\n",
    "print(mlr.intercept_)\n",
    "\n",
    "# pair the feature names with the coefficients\n",
    "list(zip(x, mlr.coef_))\n",
    "\n",
    "#Predicting the Test and Train set result \n",
    "y_pred_mlr= mlr.predict(x_test)  \n",
    "x_pred_mlr= mlr.predict(x_train)\n",
    "print(\"Prediction for test set: {}\".format(y_pred_mlr))\n",
    "\n",
    "#Actual value and the predicted value\n",
    "mlr_diff = pd.DataFrame({'Actual value': y_test, 'Predicted value': y_pred_mlr})\n",
    "\n",
    "mlr_diff"
   ]
  },
  {
   "cell_type": "code",
   "execution_count": 47,
   "metadata": {},
   "outputs": [
    {
     "name": "stderr",
     "output_type": "stream",
     "text": [
      "C:\\Users\\moham\\AppData\\Local\\Programs\\Python\\Python39\\lib\\site-packages\\sklearn\\base.py:450: UserWarning: X does not have valid feature names, but LinearRegression was fitted with feature names\n"
     ]
    },
    {
     "data": {
      "text/plain": [
       "array([1.87804866e+11])"
      ]
     },
     "execution_count": 47,
     "metadata": {},
     "output_type": "execute_result"
    }
   ],
   "source": [
    "#Predict for any value\n",
    "mlr.predict([[56, 55]])"
   ]
  },
  {
   "cell_type": "code",
   "execution_count": 48,
   "metadata": {},
   "outputs": [
    {
     "name": "stdout",
     "output_type": "stream",
     "text": [
      "R squared value of the model: 0.58\n",
      "Mean Absolute Error: 681500425767.3152\n",
      "Mean Square Error: 3.337308399167996e+24\n",
      "Root Mean Square Error: 1826830150607.3289\n"
     ]
    }
   ],
   "source": [
    "# 0 means the model is perfect. Therefore the value should be as close to 0 as possible\n",
    "meanAbErr = metrics.mean_absolute_error(y_test, y_pred_mlr)\n",
    "meanSqErr = metrics.mean_squared_error(y_test, y_pred_mlr)\n",
    "rootMeanSqErr = np.sqrt(metrics.mean_squared_error(y_test, y_pred_mlr))\n",
    "# print the R-squared value for the model\n",
    "print('R squared value of the model: {:.2f}'.format(mlr.score(x,y)*100))\n",
    "print('Mean Absolute Error:', meanAbErr)\n",
    "print('Mean Square Error:', meanSqErr)\n",
    "print('Root Mean Square Error:', rootMeanSqErr)"
   ]
  },
  {
   "cell_type": "markdown",
   "metadata": {},
   "source": [
    "New test"
   ]
  },
  {
   "cell_type": "code",
   "execution_count": 49,
   "metadata": {},
   "outputs": [
    {
     "data": {
      "text/html": [
       "<div>\n",
       "<style scoped>\n",
       "    .dataframe tbody tr th:only-of-type {\n",
       "        vertical-align: middle;\n",
       "    }\n",
       "\n",
       "    .dataframe tbody tr th {\n",
       "        vertical-align: top;\n",
       "    }\n",
       "\n",
       "    .dataframe thead th {\n",
       "        text-align: right;\n",
       "    }\n",
       "</style>\n",
       "<table border=\"1\" class=\"dataframe\">\n",
       "  <thead>\n",
       "    <tr style=\"text-align: right;\">\n",
       "      <th></th>\n",
       "      <th>Unnamed: 0</th>\n",
       "      <th>country</th>\n",
       "      <th>year</th>\n",
       "      <th>Intentional_homicides_per100k</th>\n",
       "      <th>Suicide_mortality_rate_per100k</th>\n",
       "      <th>GDP_us</th>\n",
       "      <th>GDP_per_capita</th>\n",
       "      <th>adminregion</th>\n",
       "      <th>incomeLevel</th>\n",
       "    </tr>\n",
       "  </thead>\n",
       "  <tbody>\n",
       "    <tr>\n",
       "      <th>0</th>\n",
       "      <td>0</td>\n",
       "      <td>Afghanistan</td>\n",
       "      <td>2009</td>\n",
       "      <td>3.926774</td>\n",
       "      <td>4.4</td>\n",
       "      <td>1.241616e+10</td>\n",
       "      <td>1519.692923</td>\n",
       "      <td>South Asia</td>\n",
       "      <td>Low income</td>\n",
       "    </tr>\n",
       "    <tr>\n",
       "      <th>1</th>\n",
       "      <td>1</td>\n",
       "      <td>Afghanistan</td>\n",
       "      <td>2010</td>\n",
       "      <td>3.368110</td>\n",
       "      <td>4.3</td>\n",
       "      <td>1.585668e+10</td>\n",
       "      <td>1710.575411</td>\n",
       "      <td>South Asia</td>\n",
       "      <td>Low income</td>\n",
       "    </tr>\n",
       "    <tr>\n",
       "      <th>2</th>\n",
       "      <td>2</td>\n",
       "      <td>Afghanistan</td>\n",
       "      <td>2011</td>\n",
       "      <td>4.087337</td>\n",
       "      <td>4.1</td>\n",
       "      <td>1.780511e+10</td>\n",
       "      <td>1699.488110</td>\n",
       "      <td>South Asia</td>\n",
       "      <td>Low income</td>\n",
       "    </tr>\n",
       "    <tr>\n",
       "      <th>3</th>\n",
       "      <td>3</td>\n",
       "      <td>Afghanistan</td>\n",
       "      <td>2012</td>\n",
       "      <td>6.251328</td>\n",
       "      <td>4.0</td>\n",
       "      <td>1.990732e+10</td>\n",
       "      <td>1914.774228</td>\n",
       "      <td>South Asia</td>\n",
       "      <td>Low income</td>\n",
       "    </tr>\n",
       "    <tr>\n",
       "      <th>4</th>\n",
       "      <td>4</td>\n",
       "      <td>Afghanistan</td>\n",
       "      <td>2015</td>\n",
       "      <td>9.783922</td>\n",
       "      <td>4.0</td>\n",
       "      <td>1.913421e+10</td>\n",
       "      <td>2087.305323</td>\n",
       "      <td>South Asia</td>\n",
       "      <td>Low income</td>\n",
       "    </tr>\n",
       "    <tr>\n",
       "      <th>...</th>\n",
       "      <td>...</td>\n",
       "      <td>...</td>\n",
       "      <td>...</td>\n",
       "      <td>...</td>\n",
       "      <td>...</td>\n",
       "      <td>...</td>\n",
       "      <td>...</td>\n",
       "      <td>...</td>\n",
       "      <td>...</td>\n",
       "    </tr>\n",
       "    <tr>\n",
       "      <th>1482</th>\n",
       "      <td>1482</td>\n",
       "      <td>Zimbabwe</td>\n",
       "      <td>2004</td>\n",
       "      <td>11.281282</td>\n",
       "      <td>14.2</td>\n",
       "      <td>5.805598e+09</td>\n",
       "      <td>1762.520649</td>\n",
       "      <td>Sub-Saharan Africa (excluding high income)</td>\n",
       "      <td>Lower middle income</td>\n",
       "    </tr>\n",
       "    <tr>\n",
       "      <th>1483</th>\n",
       "      <td>1483</td>\n",
       "      <td>Zimbabwe</td>\n",
       "      <td>2005</td>\n",
       "      <td>11.178553</td>\n",
       "      <td>14.0</td>\n",
       "      <td>5.755215e+09</td>\n",
       "      <td>1705.569979</td>\n",
       "      <td>Sub-Saharan Africa (excluding high income)</td>\n",
       "      <td>Lower middle income</td>\n",
       "    </tr>\n",
       "    <tr>\n",
       "      <th>1484</th>\n",
       "      <td>1484</td>\n",
       "      <td>Zimbabwe</td>\n",
       "      <td>2006</td>\n",
       "      <td>8.819056</td>\n",
       "      <td>14.4</td>\n",
       "      <td>5.443896e+09</td>\n",
       "      <td>1685.362389</td>\n",
       "      <td>Sub-Saharan Africa (excluding high income)</td>\n",
       "      <td>Lower middle income</td>\n",
       "    </tr>\n",
       "    <tr>\n",
       "      <th>1485</th>\n",
       "      <td>1485</td>\n",
       "      <td>Zimbabwe</td>\n",
       "      <td>2010</td>\n",
       "      <td>5.599427</td>\n",
       "      <td>21.5</td>\n",
       "      <td>1.204166e+10</td>\n",
       "      <td>1830.827333</td>\n",
       "      <td>Sub-Saharan Africa (excluding high income)</td>\n",
       "      <td>Lower middle income</td>\n",
       "    </tr>\n",
       "    <tr>\n",
       "      <th>1486</th>\n",
       "      <td>1486</td>\n",
       "      <td>Zimbabwe</td>\n",
       "      <td>2012</td>\n",
       "      <td>7.479900</td>\n",
       "      <td>19.7</td>\n",
       "      <td>1.711485e+10</td>\n",
       "      <td>2375.927006</td>\n",
       "      <td>Sub-Saharan Africa (excluding high income)</td>\n",
       "      <td>Lower middle income</td>\n",
       "    </tr>\n",
       "  </tbody>\n",
       "</table>\n",
       "<p>1487 rows × 9 columns</p>\n",
       "</div>"
      ],
      "text/plain": [
       "      Unnamed: 0      country  year  Intentional_homicides_per100k  \\\n",
       "0              0  Afghanistan  2009                       3.926774   \n",
       "1              1  Afghanistan  2010                       3.368110   \n",
       "2              2  Afghanistan  2011                       4.087337   \n",
       "3              3  Afghanistan  2012                       6.251328   \n",
       "4              4  Afghanistan  2015                       9.783922   \n",
       "...          ...          ...   ...                            ...   \n",
       "1482        1482     Zimbabwe  2004                      11.281282   \n",
       "1483        1483     Zimbabwe  2005                      11.178553   \n",
       "1484        1484     Zimbabwe  2006                       8.819056   \n",
       "1485        1485     Zimbabwe  2010                       5.599427   \n",
       "1486        1486     Zimbabwe  2012                       7.479900   \n",
       "\n",
       "      Suicide_mortality_rate_per100k        GDP_us  GDP_per_capita  \\\n",
       "0                                4.4  1.241616e+10     1519.692923   \n",
       "1                                4.3  1.585668e+10     1710.575411   \n",
       "2                                4.1  1.780511e+10     1699.488110   \n",
       "3                                4.0  1.990732e+10     1914.774228   \n",
       "4                                4.0  1.913421e+10     2087.305323   \n",
       "...                              ...           ...             ...   \n",
       "1482                            14.2  5.805598e+09     1762.520649   \n",
       "1483                            14.0  5.755215e+09     1705.569979   \n",
       "1484                            14.4  5.443896e+09     1685.362389   \n",
       "1485                            21.5  1.204166e+10     1830.827333   \n",
       "1486                            19.7  1.711485e+10     2375.927006   \n",
       "\n",
       "                                     adminregion          incomeLevel  \n",
       "0                                     South Asia           Low income  \n",
       "1                                     South Asia           Low income  \n",
       "2                                     South Asia           Low income  \n",
       "3                                     South Asia           Low income  \n",
       "4                                     South Asia           Low income  \n",
       "...                                          ...                  ...  \n",
       "1482  Sub-Saharan Africa (excluding high income)  Lower middle income  \n",
       "1483  Sub-Saharan Africa (excluding high income)  Lower middle income  \n",
       "1484  Sub-Saharan Africa (excluding high income)  Lower middle income  \n",
       "1485  Sub-Saharan Africa (excluding high income)  Lower middle income  \n",
       "1486  Sub-Saharan Africa (excluding high income)  Lower middle income  \n",
       "\n",
       "[1487 rows x 9 columns]"
      ]
     },
     "execution_count": 49,
     "metadata": {},
     "output_type": "execute_result"
    }
   ],
   "source": [
    "df2 = pd.read_csv('cleaned_data02.csv')\n",
    "df2"
   ]
  },
  {
   "cell_type": "code",
   "execution_count": 50,
   "metadata": {},
   "outputs": [],
   "source": [
    "df3=df2[['Intentional_homicides_per100k', 'Suicide_mortality_rate_per100k', 'GDP_per_capita']]"
   ]
  },
  {
   "cell_type": "code",
   "execution_count": 51,
   "metadata": {},
   "outputs": [],
   "source": [
    "J = df3[['Intentional_homicides_per100k', 'Suicide_mortality_rate_per100k']]\n",
    "y = df3['GDP_per_capita']"
   ]
  },
  {
   "cell_type": "code",
   "execution_count": 52,
   "metadata": {},
   "outputs": [
    {
     "data": {
      "text/plain": [
       "(1487, 2)"
      ]
     },
     "execution_count": 52,
     "metadata": {},
     "output_type": "execute_result"
    }
   ],
   "source": [
    "J.shape"
   ]
  },
  {
   "cell_type": "code",
   "execution_count": 53,
   "metadata": {},
   "outputs": [],
   "source": [
    "from sklearn import linear_model\n",
    "\n"
   ]
  },
  {
   "cell_type": "code",
   "execution_count": 54,
   "metadata": {},
   "outputs": [
    {
     "data": {
      "text/plain": [
       "LinearRegression()"
      ]
     },
     "execution_count": 54,
     "metadata": {},
     "output_type": "execute_result"
    }
   ],
   "source": [
    "regr = linear_model.LinearRegression()\n",
    "regr.fit(J, y)"
   ]
  },
  {
   "cell_type": "code",
   "execution_count": 55,
   "metadata": {},
   "outputs": [
    {
     "name": "stderr",
     "output_type": "stream",
     "text": [
      "C:\\Users\\moham\\AppData\\Local\\Programs\\Python\\Python39\\lib\\site-packages\\sklearn\\base.py:450: UserWarning: X does not have valid feature names, but LinearRegression was fitted with feature names\n"
     ]
    }
   ],
   "source": [
    "#predict the \n",
    "predicted = regr.predict([[42.89, 6.3]])"
   ]
  },
  {
   "cell_type": "code",
   "execution_count": 56,
   "metadata": {},
   "outputs": [
    {
     "data": {
      "text/plain": [
       "array([6997.17421027])"
      ]
     },
     "execution_count": 56,
     "metadata": {},
     "output_type": "execute_result"
    }
   ],
   "source": [
    "predicted"
   ]
  },
  {
   "cell_type": "markdown",
   "metadata": {},
   "source": [
    "our orediction was off by 400"
   ]
  },
  {
   "cell_type": "markdown",
   "metadata": {},
   "source": [
    "Coefficient\n",
    "The coefficient is a factor that describes the relationship with an unknown variable.\n",
    "\n",
    "Example: if x is a variable, then 2x is x two times. x is the unknown variable, and the number 2 is the coefficient.\n",
    "\n",
    "In this case, we can ask for the coefficient value of weight against CO2, and for volume against CO2. The answer(s) we get tells us what would happen if we increase, or decrease, one of the independent values."
   ]
  },
  {
   "cell_type": "code",
   "execution_count": 57,
   "metadata": {},
   "outputs": [
    {
     "name": "stdout",
     "output_type": "stream",
     "text": [
      "[-79.3398575   69.22322662]\n"
     ]
    }
   ],
   "source": [
    "import pandas\n",
    "from sklearn import linear_model\n",
    "\n",
    "df = pandas.read_csv(\"cleaned_data02.csv\")\n",
    "\n",
    "J = df[['Intentional_homicides_per100k', 'Suicide_mortality_rate_per100k']]\n",
    "y = df['GDP_per_capita']\n",
    "\n",
    "regr = linear_model.LinearRegression()\n",
    "regr.fit(J, y)\n",
    "\n",
    "print(regr.coef_)"
   ]
  },
  {
   "cell_type": "code",
   "execution_count": 58,
   "metadata": {},
   "outputs": [
    {
     "name": "stdout",
     "output_type": "stream",
     "text": [
      "[6203.77563523]\n"
     ]
    },
    {
     "name": "stderr",
     "output_type": "stream",
     "text": [
      "C:\\Users\\moham\\AppData\\Local\\Programs\\Python\\Python39\\lib\\site-packages\\sklearn\\base.py:450: UserWarning: X does not have valid feature names, but LinearRegression was fitted with feature names\n"
     ]
    }
   ],
   "source": [
    "import pandas\n",
    "from sklearn import linear_model\n",
    "\n",
    "df = pandas.read_csv(\"cleaned_data02.csv\")\n",
    "\n",
    "J = df[['Intentional_homicides_per100k', 'Suicide_mortality_rate_per100k']]\n",
    "y = df['GDP_per_capita']\n",
    "\n",
    "regr = linear_model.LinearRegression()\n",
    "regr.fit(J, y)\n",
    "\n",
    "predictedCO2 = regr.predict([[52.89, 6.3]])\n",
    "\n",
    "print(predictedCO2)"
   ]
  },
  {
   "cell_type": "markdown",
   "metadata": {},
   "source": [
    "6997.17 was the initial prediction when using 42.89 homicides per 100k, when we add on 10 homicides to make it 52.89 we get a prediction of 6203.87. To test this we used the above equation taking the coefficient which is -79.33. The 10 represents the change in homicides. Based on the result, we can see that when this formula is used, it matches the models prediction of the GDP relative to homicides."
   ]
  },
  {
   "cell_type": "code",
   "execution_count": 59,
   "metadata": {},
   "outputs": [
    {
     "data": {
      "text/plain": [
       "6203.87"
      ]
     },
     "execution_count": 59,
     "metadata": {},
     "output_type": "execute_result"
    }
   ],
   "source": [
    "#testing accuracy\n",
    "6997.17 + (10*-79.33)"
   ]
  },
  {
   "cell_type": "code",
   "execution_count": 60,
   "metadata": {},
   "outputs": [],
   "source": [
    "import statsmodels.api as sm\n",
    "\n",
    "# adding a constant to get an intercept\n",
    "x_train_sm = sm.add_constant(x_train)"
   ]
  },
  {
   "cell_type": "code",
   "execution_count": 61,
   "metadata": {},
   "outputs": [],
   "source": [
    "# fitting the regression line using Ordinary Least Square\n",
    "\n",
    "mlr = sm.OLS(y_train, x_train_sm).fit()"
   ]
  },
  {
   "cell_type": "code",
   "execution_count": 62,
   "metadata": {},
   "outputs": [
    {
     "data": {
      "text/plain": [
       "const                             5.134897e+11\n",
       "Intentional_homicides_per100k    -1.085256e+10\n",
       "Suicide_mortality_rate_per100k    5.128333e+09\n",
       "dtype: float64"
      ]
     },
     "execution_count": 62,
     "metadata": {},
     "output_type": "execute_result"
    }
   ],
   "source": [
    "# Printing the params\n",
    "\n",
    "mlr.params"
   ]
  },
  {
   "cell_type": "code",
   "execution_count": 63,
   "metadata": {},
   "outputs": [
    {
     "data": {
      "text/html": [
       "<table class=\"simpletable\">\n",
       "<caption>OLS Regression Results</caption>\n",
       "<tr>\n",
       "  <th>Dep. Variable:</th>         <td>GDP_us</td>      <th>  R-squared:         </th> <td>   0.006</td> \n",
       "</tr>\n",
       "<tr>\n",
       "  <th>Model:</th>                   <td>OLS</td>       <th>  Adj. R-squared:    </th> <td>   0.004</td> \n",
       "</tr>\n",
       "<tr>\n",
       "  <th>Method:</th>             <td>Least Squares</td>  <th>  F-statistic:       </th> <td>   3.132</td> \n",
       "</tr>\n",
       "<tr>\n",
       "  <th>Date:</th>             <td>Tue, 05 Apr 2022</td> <th>  Prob (F-statistic):</th>  <td>0.0440</td>  \n",
       "</tr>\n",
       "<tr>\n",
       "  <th>Time:</th>                 <td>17:13:19</td>     <th>  Log-Likelihood:    </th> <td> -30912.</td> \n",
       "</tr>\n",
       "<tr>\n",
       "  <th>No. Observations:</th>      <td>  1040</td>      <th>  AIC:               </th> <td>6.183e+04</td>\n",
       "</tr>\n",
       "<tr>\n",
       "  <th>Df Residuals:</th>          <td>  1037</td>      <th>  BIC:               </th> <td>6.184e+04</td>\n",
       "</tr>\n",
       "<tr>\n",
       "  <th>Df Model:</th>              <td>     2</td>      <th>                     </th>     <td> </td>    \n",
       "</tr>\n",
       "<tr>\n",
       "  <th>Covariance Type:</th>      <td>nonrobust</td>    <th>                     </th>     <td> </td>    \n",
       "</tr>\n",
       "</table>\n",
       "<table class=\"simpletable\">\n",
       "<tr>\n",
       "                 <td></td>                   <th>coef</th>     <th>std err</th>      <th>t</th>      <th>P>|t|</th>  <th>[0.025</th>    <th>0.975]</th>  \n",
       "</tr>\n",
       "<tr>\n",
       "  <th>const</th>                          <td> 5.135e+11</td> <td> 9.81e+10</td> <td>    5.235</td> <td> 0.000</td> <td> 3.21e+11</td> <td> 7.06e+11</td>\n",
       "</tr>\n",
       "<tr>\n",
       "  <th>Intentional_homicides_per100k</th>  <td>-1.085e+10</td> <td> 4.54e+09</td> <td>   -2.390</td> <td> 0.017</td> <td>-1.98e+10</td> <td>-1.94e+09</td>\n",
       "</tr>\n",
       "<tr>\n",
       "  <th>Suicide_mortality_rate_per100k</th> <td> 5.128e+09</td> <td> 5.89e+09</td> <td>    0.870</td> <td> 0.384</td> <td>-6.44e+09</td> <td> 1.67e+10</td>\n",
       "</tr>\n",
       "</table>\n",
       "<table class=\"simpletable\">\n",
       "<tr>\n",
       "  <th>Omnibus:</th>       <td>1299.999</td> <th>  Durbin-Watson:     </th>  <td>   2.030</td> \n",
       "</tr>\n",
       "<tr>\n",
       "  <th>Prob(Omnibus):</th>  <td> 0.000</td>  <th>  Jarque-Bera (JB):  </th> <td>107909.250</td>\n",
       "</tr>\n",
       "<tr>\n",
       "  <th>Skew:</th>           <td> 6.724</td>  <th>  Prob(JB):          </th>  <td>    0.00</td> \n",
       "</tr>\n",
       "<tr>\n",
       "  <th>Kurtosis:</th>       <td>51.056</td>  <th>  Cond. No.          </th>  <td>    31.2</td> \n",
       "</tr>\n",
       "</table><br/><br/>Notes:<br/>[1] Standard Errors assume that the covariance matrix of the errors is correctly specified."
      ],
      "text/plain": [
       "<class 'statsmodels.iolib.summary.Summary'>\n",
       "\"\"\"\n",
       "                            OLS Regression Results                            \n",
       "==============================================================================\n",
       "Dep. Variable:                 GDP_us   R-squared:                       0.006\n",
       "Model:                            OLS   Adj. R-squared:                  0.004\n",
       "Method:                 Least Squares   F-statistic:                     3.132\n",
       "Date:                Tue, 05 Apr 2022   Prob (F-statistic):             0.0440\n",
       "Time:                        17:13:19   Log-Likelihood:                -30912.\n",
       "No. Observations:                1040   AIC:                         6.183e+04\n",
       "Df Residuals:                    1037   BIC:                         6.184e+04\n",
       "Df Model:                           2                                         \n",
       "Covariance Type:            nonrobust                                         \n",
       "==================================================================================================\n",
       "                                     coef    std err          t      P>|t|      [0.025      0.975]\n",
       "--------------------------------------------------------------------------------------------------\n",
       "const                           5.135e+11   9.81e+10      5.235      0.000    3.21e+11    7.06e+11\n",
       "Intentional_homicides_per100k  -1.085e+10   4.54e+09     -2.390      0.017   -1.98e+10   -1.94e+09\n",
       "Suicide_mortality_rate_per100k  5.128e+09   5.89e+09      0.870      0.384   -6.44e+09    1.67e+10\n",
       "==============================================================================\n",
       "Omnibus:                     1299.999   Durbin-Watson:                   2.030\n",
       "Prob(Omnibus):                  0.000   Jarque-Bera (JB):           107909.250\n",
       "Skew:                           6.724   Prob(JB):                         0.00\n",
       "Kurtosis:                      51.056   Cond. No.                         31.2\n",
       "==============================================================================\n",
       "\n",
       "Notes:\n",
       "[1] Standard Errors assume that the covariance matrix of the errors is correctly specified.\n",
       "\"\"\""
      ]
     },
     "execution_count": 63,
     "metadata": {},
     "output_type": "execute_result"
    }
   ],
   "source": [
    "mlr.summary()"
   ]
  },
  {
   "cell_type": "code",
   "execution_count": 64,
   "metadata": {},
   "outputs": [],
   "source": [
    "from bioinfokit import visuz"
   ]
  },
  {
   "cell_type": "code",
   "execution_count": 65,
   "metadata": {},
   "outputs": [
    {
     "data": {
      "image/png": "[encoded data removed]",
      "text/plain": [
       "<Figure size 432x288 with 1 Axes>"
      ]
     },
     "metadata": {
      "needs_background": "light"
     },
     "output_type": "display_data"
    }
   ],
   "source": [
    "# create regression plot with defaults\n",
    "\n",
    "visuz.stat.regplot(df3, x='GDP_per_capita', y='Intentional_homicides_per100k', yhat='Intentional_homicides_per100k', show = True)# plot will be saved in same dir (reg_plot.png)show=True \n",
    " # #if you want view the image instead of saving"
   ]
  },
  {
   "cell_type": "code",
   "execution_count": 66,
   "metadata": {},
   "outputs": [
    {
     "data": {
      "image/png": "[encoded data removed]",
      "text/plain": [
       "<Figure size 1440x720 with 1 Axes>"
      ]
     },
     "metadata": {
      "needs_background": "light"
     },
     "output_type": "display_data"
    }
   ],
   "source": [
    "regression = df3\n",
    "regression.shape\n",
    "regression.head(10)\n",
    "#regression.plot('GDP_per_capita', 'Intentional_homicides_per100k',)\n",
    "regression.plot.scatter('GDP_per_capita', 'Intentional_homicides_per100k')\n",
    "x_train, x_test, y_train, y_test = train_test_split(regression.GDP_per_capita, regression.Intentional_homicides_per100k, test_size = 0.2)\n",
    "regr = LinearRegression()\n",
    "regr.fit(np.array(x_train).reshape(-1,1), y_train)\n",
    "preds = regr.predict(np.array(x_test).reshape(-1,1))\n",
    "y_test.head()\n",
    "preds\n",
    "residuals = preds - y_test"
   ]
  },
  {
   "cell_type": "code",
   "execution_count": 67,
   "metadata": {},
   "outputs": [],
   "source": [
    "mean_values_country_df = df2.groupby(['country', 'incomeLevel'])[['Intentional_homicides_per100k', 'Suicide_mortality_rate_per100k', 'GDP_per_capita']].mean().reset_index()"
   ]
  },
  {
   "cell_type": "code",
   "execution_count": 68,
   "metadata": {},
   "outputs": [],
   "source": [
    "import plotly.express as px\n"
   ]
  },
  {
   "cell_type": "code",
   "execution_count": 69,
   "metadata": {},
   "outputs": [
    {
     "data": {
      "application/vnd.plotly.v1+json": {
       "config": {
        "plotlyServerURL": "https://plot.ly"
       },
       "data": [
        {
         "hovertemplate": "<b>%{hovertext}</b><br><br>incomeLevel=Low income<br>GDP_per_capita=%{x}<br>Intentional_homicides_per100k=%{y}<br>Suicide_mortality_rate_per100k=%{marker.size}<extra></extra>",
         "hovertext": [
          "Afghanistan",
          "Burkina Faso",
          "Burundi",
          "Central African Republic",
          "Ethiopia",
          "Guinea-Bissau",
          "Liberia",
          "Malawi",
          "Mozambique",
          "Niger",
          "Rwanda",
          "Sierra Leone",
          "South Sudan",
          "Sudan",
          "Uganda",
          "Yemen, Rep."
         ],
         "legendgroup": "Low income",
         "marker": {
          "color": "#636efa",
          "size": [
           4.125,
           8.00625,
           7.133333333333334,
           13.7,
           6.1,
           7.56,
           4.8999999999999995,
           8.138461538461538,
           13.218181818181819,
           5.45,
           6.725,
           6.39,
           3.7,
           4.1,
           6.78,
           5.841666666666666
          ],
          "sizemode": "area",
          "sizeref": 0.17503125,
          "symbol": "circle"
         },
         "mode": "markers",
         "name": "Low income",
         "orientation": "v",
         "showlegend": true,
         "type": "scatter",
         "x": [
          1881.748741625,
          1474.495613375,
          719.1961914111112,
          851.0726713,
          1213.595972,
          1602.3631774,
          1033.0970444,
          1176.8527334076923,
          766.2518937454545,
          1113.4569365,
          1406.746071625,
          1123.7817076,
          1519.142314,
          3934.7465359999997,
          1900.3134586,
          3597.6909319166666
         ],
         "xaxis": "x",
         "y": [
          5.912824603125,
          0.7454808124375,
          4.860969968888889,
          20.12040065,
          8.792478547,
          3.2514514660000002,
          3.7072988785,
          4.118817612461538,
          4.674268828090909,
          4.641806711,
          2.87670967,
          2.2105459417,
          13.9,
          4.9086697465,
          10.1142897364,
          4.69366063375
         ],
         "yaxis": "y"
        },
        {
         "hovertemplate": "<b>%{hovertext}</b><br><br>incomeLevel=Upper middle income<br>GDP_per_capita=%{x}<br>Intentional_homicides_per100k=%{y}<br>Suicide_mortality_rate_per100k=%{marker.size}<extra></extra>",
         "hovertext": [
          "Albania",
          "Argentina",
          "Armenia",
          "Azerbaijan",
          "Belarus",
          "Bosnia and Herzegovina",
          "Botswana",
          "Brazil",
          "Bulgaria",
          "China",
          "Colombia",
          "Costa Rica",
          "Dominican Republic",
          "Ecuador",
          "Fiji",
          "Georgia",
          "Grenada",
          "Guatemala",
          "Guyana",
          "Iraq",
          "Jamaica",
          "Jordan",
          "Kazakhstan",
          "Lebanon",
          "Malaysia",
          "Maldives",
          "Mauritius",
          "Mexico",
          "Moldova",
          "Montenegro",
          "North Macedonia",
          "Panama",
          "Paraguay",
          "Peru",
          "Romania",
          "Russian Federation",
          "Serbia",
          "South Africa",
          "St. Lucia",
          "St. Vincent and the Grenadines",
          "Suriname",
          "Thailand",
          "Tonga",
          "Turkey",
          "Turkmenistan"
         ],
         "legendgroup": "Upper middle income",
         "marker": {
          "color": "#EF553B",
          "size": [
           5.957894736842105,
           8.905555555555557,
           4.88421052631579,
           4.152941176470588,
           34.71578947368421,
           10.43888888888889,
           30.339999999999996,
           5.173684210526315,
           12.81578947368421,
           10.636842105263158,
           4.21578947368421,
           6.673684210526315,
           4.916666666666667,
           9.110526315789473,
           9.633333333333333,
           7.835714285714286,
           1.8999999999999997,
           8.121052631578948,
           34.27368421052632,
           3.9333333333333336,
           1.9789473684210528,
           1.6076923076923075,
           31.45714285714286,
           2.881818181818182,
           4.557142857142857,
           3.02,
           8.888235294117647,
           4.652631578947369,
           17.568421052631578,
           20.947058823529414,
           9.421052631578947,
           4.489473684210526,
           4.442105263157895,
           2.9285714285714284,
           12.089473684210526,
           40.48947368421052,
           17.757894736842104,
           24.288888888888888,
           7.652631578947369,
           5.314285714285715,
           24.235714285714288,
           8.988888888888889,
           4.2153846153846155,
           2.492857142857143,
           14.12857142857143
          ],
          "sizemode": "area",
          "sizeref": 0.17503125,
          "symbol": "circle"
         },
         "mode": "markers",
         "name": "Upper middle income",
         "orientation": "v",
         "showlegend": true,
         "type": "scatter",
         "x": [
          8536.35974863158,
          17082.953469444445,
          7542.498552736842,
          10883.156747882354,
          13537.709111052633,
          9250.0376145,
          10851.0158512,
          12845.815678894738,
          14001.861952578945,
          8568.516554210526,
          10523.218579105262,
          13109.475967842105,
          10924.567690333333,
          9008.922676105263,
          8113.976204583334,
          6956.224453714285,
          11060.096594166667,
          6587.5229940526315,
          9010.426145315789,
          13490.37565,
          8042.413785421052,
          9269.084758615385,
          17541.15363457143,
          14919.114638181818,
          17833.546120000003,
          11881.8968463,
          15696.22447917647,
          15212.841012105264,
          6769.2451628947365,
          13427.724171941178,
          10653.963495263157,
          16728.305562736845,
          9384.846986894736,
          11448.99190857143,
          15834.865927526316,
          18264.779219789474,
          11921.869533210525,
          11899.939629333334,
          12176.27200431579,
          9134.697224357142,
          12383.071794000001,
          12306.966248277779,
          4414.141002230769,
          18532.33018242857,
          5077.715031
         ],
         "xaxis": "x",
         "y": [
          4.067445076052632,
          6.491177692777778,
          2.5397978116842106,
          2.3164317712941176,
          5.927989428684211,
          1.7242834377777778,
          15.036902914,
          25.640248501052632,
          2.293469804157895,
          1.1889200781578948,
          40.74365121368421,
          9.258146925368422,
          19.945460051666668,
          12.95601397831579,
          2.55914121525,
          5.6937801535,
          9.325460045388889,
          34.25566703052632,
          17.82516106842105,
          10.192381346333333,
          46.62934169157895,
          1.6396380306153846,
          9.924969443428571,
          3.4398062861818186,
          2.168811894285714,
          1.6202828899,
          2.739344137058824,
          15.95753368668421,
          6.179580840210527,
          3.0459898024117646,
          1.8934642279999998,
          11.838642493842105,
          13.892087475842105,
          7.001777303142857,
          1.8023620236842106,
          17.273031967315788,
          1.642918106,
          36.76111111111111,
          21.896047038421052,
          22.255404252857144,
          9.822070041571427,
          5.834095118777778,
          3.8024848426153848,
          4.1187799394999995,
          4.939235555000001
         ],
         "yaxis": "y"
        },
        {
         "hovertemplate": "<b>%{hovertext}</b><br><br>incomeLevel=Lower middle income<br>GDP_per_capita=%{x}<br>Intentional_homicides_per100k=%{y}<br>Suicide_mortality_rate_per100k=%{marker.size}<extra></extra>",
         "hovertext": [
          "Algeria",
          "Angola",
          "Bangladesh",
          "Belize",
          "Benin",
          "Bhutan",
          "Bolivia",
          "Cabo Verde",
          "Cambodia",
          "Cameroon",
          "Egypt, Arab Rep.",
          "El Salvador",
          "Eswatini",
          "Ghana",
          "Haiti",
          "Honduras",
          "India",
          "Indonesia",
          "Iran, Islamic Rep.",
          "Kenya",
          "Kiribati",
          "Kyrgyz Republic",
          "Lesotho",
          "Mongolia",
          "Morocco",
          "Myanmar",
          "Nepal",
          "Nicaragua",
          "Nigeria",
          "Pakistan",
          "Papua New Guinea",
          "Philippines",
          "Samoa",
          "Sao Tome and Principe",
          "Senegal",
          "Solomon Islands",
          "Sri Lanka",
          "Tajikistan",
          "Tanzania",
          "Timor-Leste",
          "Tunisia",
          "Ukraine",
          "Uzbekistan",
          "Vietnam",
          "Zambia",
          "Zimbabwe"
         ],
         "legendgroup": "Lower middle income",
         "marker": {
          "color": "#00cc96",
          "size": [
           3.3153846153846156,
           6.75,
           4.4263157894736835,
           6.122222222222223,
           8,
           4.4944444444444445,
           6.133333333333333,
           13.95625,
           5.3500000000000005,
           10.392307692307693,
           3.17,
           6.689473684210526,
           42.33888888888889,
           7.129411764705883,
           10.072727272727272,
           2.373684210526316,
           14.489473684210527,
           2.707692307692308,
           6.6,
           5.873333333333333,
           30.885714285714283,
           11.642105263157895,
           70.0125,
           22.0125,
           8.784210526315789,
           3.7882352941176474,
           8.29375,
           4.976470588235294,
           3.7,
           8.968421052631578,
           2.3899999999999997,
           2.094736842105263,
           11.966666666666667,
           1.5166666666666666,
           6.4,
           14.580000000000002,
           18.2,
           3.6999999999999997,
           4.811111111111111,
           2.925,
           3.575,
           30.428571428571427,
           9.115384615384615,
           6.545454545454546,
           9.933333333333334,
           15.4
          ],
          "sizemode": "area",
          "sizeref": 0.17503125,
          "symbol": "circle"
         },
         "mode": "markers",
         "name": "Lower middle income",
         "orientation": "v",
         "showlegend": true,
         "type": "scatter",
         "x": [
          12264.85992846154,
          7061.858829,
          2536.357877526316,
          6985.258575777778,
          3044.517156,
          6334.322231888889,
          5643.0515894166665,
          5473.9295760625,
          1816.1313669166666,
          2823.467083769231,
          8409.6671994,
          6233.08095831579,
          7121.947735833333,
          3340.573069117647,
          2862.4730633636364,
          3857.460930473684,
          4056.9734416842102,
          8545.857708461537,
          14470.995,
          2974.2827028,
          1708.0231769999998,
          3245.267297736842,
          2294.755285375,
          8460.5686325,
          5800.515893052631,
          2459.955142029412,
          2010.3423854375,
          3916.958180117647,
          5234.679127,
          3734.5731770526313,
          2431.3470316,
          5591.341006631578,
          5395.927175333333,
          2722.5511766666664,
          2971.346817,
          1816.2191233999997,
          9066.082151266666,
          1768.2728813333333,
          2066.7067885555557,
          1718.226147125,
          9470.640827125,
          7816.4927530714285,
          4497.041320384616,
          3248.9532992727272,
          3088.1565844444444,
          1962.82411
         ],
         "xaxis": "x",
         "y": [
          1.1097165133846154,
          4.601430346,
          2.675003052631579,
          32.07420991944444,
          1.127497407,
          2.4150285914444445,
          8.477729361333333,
          8.3069203174375,
          3.1108282709166666,
          3.6985069821538463,
          1.3667247677999999,
          62.04872852789474,
          13.591670542888888,
          1.9330772108823528,
          7.979204999454546,
          56.97638239894737,
          3.776559978578947,
          0.5946347517692308,
          2.7537908298,
          4.314588590533333,
          5.457590137571429,
          7.483533895736842,
          37.60600153625,
          9.3126155699375,
          1.5009194100526315,
          1.9071351755294117,
          2.8819807341875,
          11.286938516823529,
          34.5240459,
          6.170057101421053,
          8.6992934422,
          8.234559204,
          6.806814200666667,
          3.7469555848333336,
          0.267518152,
          4.7466056774,
          4.792356344,
          2.4507191850833334,
          7.912779256888888,
          3.9686854553749997,
          2.558687803625,
          6.757668795,
          2.963717906923077,
          1.337205768909091,
          5.9988781592222225,
          10.2635075935
         ],
         "yaxis": "y"
        },
        {
         "hovertemplate": "<b>%{hovertext}</b><br><br>incomeLevel=High income<br>GDP_per_capita=%{x}<br>Intentional_homicides_per100k=%{y}<br>Suicide_mortality_rate_per100k=%{marker.size}<extra></extra>",
         "hovertext": [
          "Canada",
          "Ireland",
          "United Kingdom",
          "United States"
         ],
         "legendgroup": "High income",
         "marker": {
          "color": "#ab63fa",
          "size": [
           12.021052631578948,
           11.626315789473685,
           8.210526315789474,
           13.06842105263158
          ],
          "sizemode": "area",
          "sizeref": 0.17503125,
          "symbol": "circle"
         },
         "mode": "markers",
         "name": "High income",
         "orientation": "v",
         "showlegend": true,
         "type": "scatter",
         "x": [
          39666.15083578947,
          48764.715131578945,
          36678.03884105263,
          48565.268605789475
         ],
         "xaxis": "x",
         "y": [
          1.7544575410526317,
          1.0977885983157893,
          1.2813497311578947,
          5.290446090368421
         ],
         "yaxis": "y"
        }
       ],
       "layout": {
        "legend": {
         "itemsizing": "constant",
         "title": {
          "text": "incomeLevel"
         },
         "tracegroupgap": 0
        },
        "margin": {
         "t": 60
        },
        "template": {
         "data": {
          "bar": [
           {
            "error_x": {
             "color": "#2a3f5f"
            },
            "error_y": {
             "color": "#2a3f5f"
            },
            "marker": {
             "line": {
              "color": "#E5ECF6",
              "width": 0.5
             },
             "pattern": {
              "fillmode": "overlay",
              "size": 10,
              "solidity": 0.2
             }
            },
            "type": "bar"
           }
          ],
          "barpolar": [
           {
            "marker": {
             "line": {
              "color": "#E5ECF6",
              "width": 0.5
             },
             "pattern": {
              "fillmode": "overlay",
              "size": 10,
              "solidity": 0.2
             }
            },
            "type": "barpolar"
           }
          ],
          "carpet": [
           {
            "aaxis": {
             "endlinecolor": "#2a3f5f",
             "gridcolor": "white",
             "linecolor": "white",
             "minorgridcolor": "white",
             "startlinecolor": "#2a3f5f"
            },
            "baxis": {
             "endlinecolor": "#2a3f5f",
             "gridcolor": "white",
             "linecolor": "white",
             "minorgridcolor": "white",
             "startlinecolor": "#2a3f5f"
            },
            "type": "carpet"
           }
          ],
          "choropleth": [
           {
            "colorbar": {
             "outlinewidth": 0,
             "ticks": ""
            },
            "type": "choropleth"
           }
          ],
          "contour": [
           {
            "colorbar": {
             "outlinewidth": 0,
             "ticks": ""
            },
            "colorscale": [
             [
              0,
              "#0d0887"
             ],
             [
              0.1111111111111111,
              "#46039f"
             ],
             [
              0.2222222222222222,
              "#7201a8"
             ],
             [
              0.3333333333333333,
              "#9c179e"
             ],
             [
              0.4444444444444444,
              "#bd3786"
             ],
             [
              0.5555555555555556,
              "#d8576b"
             ],
             [
              0.6666666666666666,
              "#ed7953"
             ],
             [
              0.7777777777777778,
              "#fb9f3a"
             ],
             [
              0.8888888888888888,
              "#fdca26"
             ],
             [
              1,
              "#f0f921"
             ]
            ],
            "type": "contour"
           }
          ],
          "contourcarpet": [
           {
            "colorbar": {
             "outlinewidth": 0,
             "ticks": ""
            },
            "type": "contourcarpet"
           }
          ],
          "heatmap": [
           {
            "colorbar": {
             "outlinewidth": 0,
             "ticks": ""
            },
            "colorscale": [
             [
              0,
              "#0d0887"
             ],
             [
              0.1111111111111111,
              "#46039f"
             ],
             [
              0.2222222222222222,
              "#7201a8"
             ],
             [
              0.3333333333333333,
              "#9c179e"
             ],
             [
              0.4444444444444444,
              "#bd3786"
             ],
             [
              0.5555555555555556,
              "#d8576b"
             ],
             [
              0.6666666666666666,
              "#ed7953"
             ],
             [
              0.7777777777777778,
              "#fb9f3a"
             ],
             [
              0.8888888888888888,
              "#fdca26"
             ],
             [
              1,
              "#f0f921"
             ]
            ],
            "type": "heatmap"
           }
          ],
          "heatmapgl": [
           {
            "colorbar": {
             "outlinewidth": 0,
             "ticks": ""
            },
            "colorscale": [
             [
              0,
              "#0d0887"
             ],
             [
              0.1111111111111111,
              "#46039f"
             ],
             [
              0.2222222222222222,
              "#7201a8"
             ],
             [
              0.3333333333333333,
              "#9c179e"
             ],
             [
              0.4444444444444444,
              "#bd3786"
             ],
             [
              0.5555555555555556,
              "#d8576b"
             ],
             [
              0.6666666666666666,
              "#ed7953"
             ],
             [
              0.7777777777777778,
              "#fb9f3a"
             ],
             [
              0.8888888888888888,
              "#fdca26"
             ],
             [
              1,
              "#f0f921"
             ]
            ],
            "type": "heatmapgl"
           }
          ],
          "histogram": [
           {
            "marker": {
             "pattern": {
              "fillmode": "overlay",
              "size": 10,
              "solidity": 0.2
             }
            },
            "type": "histogram"
           }
          ],
          "histogram2d": [
           {
            "colorbar": {
             "outlinewidth": 0,
             "ticks": ""
            },
            "colorscale": [
             [
              0,
              "#0d0887"
             ],
             [
              0.1111111111111111,
              "#46039f"
             ],
             [
              0.2222222222222222,
              "#7201a8"
             ],
             [
              0.3333333333333333,
              "#9c179e"
             ],
             [
              0.4444444444444444,
              "#bd3786"
             ],
             [
              0.5555555555555556,
              "#d8576b"
             ],
             [
              0.6666666666666666,
              "#ed7953"
             ],
             [
              0.7777777777777778,
              "#fb9f3a"
             ],
             [
              0.8888888888888888,
              "#fdca26"
             ],
             [
              1,
              "#f0f921"
             ]
            ],
            "type": "histogram2d"
           }
          ],
          "histogram2dcontour": [
           {
            "colorbar": {
             "outlinewidth": 0,
             "ticks": ""
            },
            "colorscale": [
             [
              0,
              "#0d0887"
             ],
             [
              0.1111111111111111,
              "#46039f"
             ],
             [
              0.2222222222222222,
              "#7201a8"
             ],
             [
              0.3333333333333333,
              "#9c179e"
             ],
             [
              0.4444444444444444,
              "#bd3786"
             ],
             [
              0.5555555555555556,
              "#d8576b"
             ],
             [
              0.6666666666666666,
              "#ed7953"
             ],
             [
              0.7777777777777778,
              "#fb9f3a"
             ],
             [
              0.8888888888888888,
              "#fdca26"
             ],
             [
              1,
              "#f0f921"
             ]
            ],
            "type": "histogram2dcontour"
           }
          ],
          "mesh3d": [
           {
            "colorbar": {
             "outlinewidth": 0,
             "ticks": ""
            },
            "type": "mesh3d"
           }
          ],
          "parcoords": [
           {
            "line": {
             "colorbar": {
              "outlinewidth": 0,
              "ticks": ""
             }
            },
            "type": "parcoords"
           }
          ],
          "pie": [
           {
            "automargin": true,
            "type": "pie"
           }
          ],
          "scatter": [
           {
            "marker": {
             "colorbar": {
              "outlinewidth": 0,
              "ticks": ""
             }
            },
            "type": "scatter"
           }
          ],
          "scatter3d": [
           {
            "line": {
             "colorbar": {
              "outlinewidth": 0,
              "ticks": ""
             }
            },
            "marker": {
             "colorbar": {
              "outlinewidth": 0,
              "ticks": ""
             }
            },
            "type": "scatter3d"
           }
          ],
          "scattercarpet": [
           {
            "marker": {
             "colorbar": {
              "outlinewidth": 0,
              "ticks": ""
             }
            },
            "type": "scattercarpet"
           }
          ],
          "scattergeo": [
           {
            "marker": {
             "colorbar": {
              "outlinewidth": 0,
              "ticks": ""
             }
            },
            "type": "scattergeo"
           }
          ],
          "scattergl": [
           {
            "marker": {
             "colorbar": {
              "outlinewidth": 0,
              "ticks": ""
             }
            },
            "type": "scattergl"
           }
          ],
          "scattermapbox": [
           {
            "marker": {
             "colorbar": {
              "outlinewidth": 0,
              "ticks": ""
             }
            },
            "type": "scattermapbox"
           }
          ],
          "scatterpolar": [
           {
            "marker": {
             "colorbar": {
              "outlinewidth": 0,
              "ticks": ""
             }
            },
            "type": "scatterpolar"
           }
          ],
          "scatterpolargl": [
           {
            "marker": {
             "colorbar": {
              "outlinewidth": 0,
              "ticks": ""
             }
            },
            "type": "scatterpolargl"
           }
          ],
          "scatterternary": [
           {
            "marker": {
             "colorbar": {
              "outlinewidth": 0,
              "ticks": ""
             }
            },
            "type": "scatterternary"
           }
          ],
          "surface": [
           {
            "colorbar": {
             "outlinewidth": 0,
             "ticks": ""
            },
            "colorscale": [
             [
              0,
              "#0d0887"
             ],
             [
              0.1111111111111111,
              "#46039f"
             ],
             [
              0.2222222222222222,
              "#7201a8"
             ],
             [
              0.3333333333333333,
              "#9c179e"
             ],
             [
              0.4444444444444444,
              "#bd3786"
             ],
             [
              0.5555555555555556,
              "#d8576b"
             ],
             [
              0.6666666666666666,
              "#ed7953"
             ],
             [
              0.7777777777777778,
              "#fb9f3a"
             ],
             [
              0.8888888888888888,
              "#fdca26"
             ],
             [
              1,
              "#f0f921"
             ]
            ],
            "type": "surface"
           }
          ],
          "table": [
           {
            "cells": {
             "fill": {
              "color": "#EBF0F8"
             },
             "line": {
              "color": "white"
             }
            },
            "header": {
             "fill": {
              "color": "#C8D4E3"
             },
             "line": {
              "color": "white"
             }
            },
            "type": "table"
           }
          ]
         },
         "layout": {
          "annotationdefaults": {
           "arrowcolor": "#2a3f5f",
           "arrowhead": 0,
           "arrowwidth": 1
          },
          "autotypenumbers": "strict",
          "coloraxis": {
           "colorbar": {
            "outlinewidth": 0,
            "ticks": ""
           }
          },
          "colorscale": {
           "diverging": [
            [
             0,
             "#8e0152"
            ],
            [
             0.1,
             "#c51b7d"
            ],
            [
             0.2,
             "#de77ae"
            ],
            [
             0.3,
             "#f1b6da"
            ],
            [
             0.4,
             "#fde0ef"
            ],
            [
             0.5,
             "#f7f7f7"
            ],
            [
             0.6,
             "#e6f5d0"
            ],
            [
             0.7,
             "#b8e186"
            ],
            [
             0.8,
             "#7fbc41"
            ],
            [
             0.9,
             "#4d9221"
            ],
            [
             1,
             "#276419"
            ]
           ],
           "sequential": [
            [
             0,
             "#0d0887"
            ],
            [
             0.1111111111111111,
             "#46039f"
            ],
            [
             0.2222222222222222,
             "#7201a8"
            ],
            [
             0.3333333333333333,
             "#9c179e"
            ],
            [
             0.4444444444444444,
             "#bd3786"
            ],
            [
             0.5555555555555556,
             "#d8576b"
            ],
            [
             0.6666666666666666,
             "#ed7953"
            ],
            [
             0.7777777777777778,
             "#fb9f3a"
            ],
            [
             0.8888888888888888,
             "#fdca26"
            ],
            [
             1,
             "#f0f921"
            ]
           ],
           "sequentialminus": [
            [
             0,
             "#0d0887"
            ],
            [
             0.1111111111111111,
             "#46039f"
            ],
            [
             0.2222222222222222,
             "#7201a8"
            ],
            [
             0.3333333333333333,
             "#9c179e"
            ],
            [
             0.4444444444444444,
             "#bd3786"
            ],
            [
             0.5555555555555556,
             "#d8576b"
            ],
            [
             0.6666666666666666,
             "#ed7953"
            ],
            [
             0.7777777777777778,
             "#fb9f3a"
            ],
            [
             0.8888888888888888,
             "#fdca26"
            ],
            [
             1,
             "#f0f921"
            ]
           ]
          },
          "colorway": [
           "#636efa",
           "#EF553B",
           "#00cc96",
           "#ab63fa",
           "#FFA15A",
           "#19d3f3",
           "#FF6692",
           "#B6E880",
           "#FF97FF",
           "#FECB52"
          ],
          "font": {
           "color": "#2a3f5f"
          },
          "geo": {
           "bgcolor": "white",
           "lakecolor": "white",
           "landcolor": "#E5ECF6",
           "showlakes": true,
           "showland": true,
           "subunitcolor": "white"
          },
          "hoverlabel": {
           "align": "left"
          },
          "hovermode": "closest",
          "mapbox": {
           "style": "light"
          },
          "paper_bgcolor": "white",
          "plot_bgcolor": "#E5ECF6",
          "polar": {
           "angularaxis": {
            "gridcolor": "white",
            "linecolor": "white",
            "ticks": ""
           },
           "bgcolor": "#E5ECF6",
           "radialaxis": {
            "gridcolor": "white",
            "linecolor": "white",
            "ticks": ""
           }
          },
          "scene": {
           "xaxis": {
            "backgroundcolor": "#E5ECF6",
            "gridcolor": "white",
            "gridwidth": 2,
            "linecolor": "white",
            "showbackground": true,
            "ticks": "",
            "zerolinecolor": "white"
           },
           "yaxis": {
            "backgroundcolor": "#E5ECF6",
            "gridcolor": "white",
            "gridwidth": 2,
            "linecolor": "white",
            "showbackground": true,
            "ticks": "",
            "zerolinecolor": "white"
           },
           "zaxis": {
            "backgroundcolor": "#E5ECF6",
            "gridcolor": "white",
            "gridwidth": 2,
            "linecolor": "white",
            "showbackground": true,
            "ticks": "",
            "zerolinecolor": "white"
           }
          },
          "shapedefaults": {
           "line": {
            "color": "#2a3f5f"
           }
          },
          "ternary": {
           "aaxis": {
            "gridcolor": "white",
            "linecolor": "white",
            "ticks": ""
           },
           "baxis": {
            "gridcolor": "white",
            "linecolor": "white",
            "ticks": ""
           },
           "bgcolor": "#E5ECF6",
           "caxis": {
            "gridcolor": "white",
            "linecolor": "white",
            "ticks": ""
           }
          },
          "title": {
           "x": 0.05
          },
          "xaxis": {
           "automargin": true,
           "gridcolor": "white",
           "linecolor": "white",
           "ticks": "",
           "title": {
            "standoff": 15
           },
           "zerolinecolor": "white",
           "zerolinewidth": 2
          },
          "yaxis": {
           "automargin": true,
           "gridcolor": "white",
           "linecolor": "white",
           "ticks": "",
           "title": {
            "standoff": 15
           },
           "zerolinecolor": "white",
           "zerolinewidth": 2
          }
         }
        },
        "xaxis": {
         "anchor": "y",
         "domain": [
          0,
          1
         ],
         "title": {
          "text": "GDP_per_capita"
         },
         "type": "log"
        },
        "yaxis": {
         "anchor": "x",
         "domain": [
          0,
          1
         ],
         "title": {
          "text": "Intentional_homicides_per100k"
         }
        }
       }
      }
     },
     "metadata": {},
     "output_type": "display_data"
    }
   ],
   "source": [
    "fig = px.scatter(mean_values_country_df, \n",
    "                 x='GDP_per_capita',\n",
    "                 y='Intentional_homicides_per100k',\n",
    "                 size='Suicide_mortality_rate_per100k',\n",
    "                 color='incomeLevel',\n",
    "                 log_x=True,\n",
    "                 hover_name='country')\n",
    "fig.show()"
   ]
  }
 ],
 "metadata": {
  "interpreter": {
   "hash": "639f361ad657fd45530bdd3e74f62afebc8edc35ba6ab7eef1042ba440bc9585"
  },
  "kernelspec": {
   "display_name": "Python 3.9.5 64-bit",
   "language": "python",
   "name": "python3"
  },
  "language_info": {
   "codemirror_mode": {
    "name": "ipython",
    "version": 3
   },
   "file_extension": ".py",
   "mimetype": "text/x-python",
   "name": "python",
   "nbconvert_exporter": "python",
   "pygments_lexer": "ipython3",
   "version": "3.9.5"
  },
  "orig_nbformat": 4
 },
 "nbformat": 4,
 "nbformat_minor": 2
}
