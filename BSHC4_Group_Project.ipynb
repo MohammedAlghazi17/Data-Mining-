{
 "cells": [
  {
   "cell_type": "code",
   "execution_count": null,
   "metadata": {},
   "outputs": [],
   "source": [
    "# imports\n",
    "import pandas as pd # for using pandas data frames\n",
    "import numpy as np # for converting numpy array to data frame"
   ]
  },
  {
   "cell_type": "code",
   "execution_count": null,
   "metadata": {},
   "outputs": [],
   "source": [
    "# imports for graphs and plotting\n",
    "#get_ipython().system('pip install ggplot')\n",
    "#get_ipython().system('pip install plotnine')"
   ]
  },
  {
   "cell_type": "code",
   "execution_count": null,
   "metadata": {},
   "outputs": [],
   "source": [
    "from plotnine import ggplot, aes, geom_line\n",
    "\n",
    "#import matplotlib.pyplot as plt\n",
    "\n",
    "import matplotlib.pyplot as plt\n",
    "\n",
    "get_ipython().run_line_magic('matplotlib', 'inline')\n",
    "\n",
    "from matplotlib.pylab import rcParams\n",
    "\n",
    "rcParams['figure.figsize']=20,10"
   ]
  },
  {
   "cell_type": "code",
   "execution_count": null,
   "metadata": {},
   "outputs": [],
   "source": [
    "\n",
    "# reading from csv data file as pandas data frame\n",
    "df = pd.read_csv(r'suicide-homicide-gdp.csv')\n",
    "\n",
    "# checking the data (rows 1-10)\n",
    "print(df[1:10])"
   ]
  },
  {
   "cell_type": "code",
   "execution_count": null,
   "metadata": {},
   "outputs": [],
   "source": [
    "# creating a data frame from raw data with headings\n",
    "data_frame = pd.DataFrame(np.array(df), columns = ['country', 'iso3c', 'iso2c', 'year', 'Intentional homicides (per 100,000 people)', 'Suicide mortality rate (per 100,000 population)', 'GDP (current US$)', 'GDP per capita, PPP (current international $)', 'adminregion', 'incomeLevel'])\n",
    "data_frame.head()"
   ]
  },
  {
   "cell_type": "code",
   "execution_count": null,
   "metadata": {},
   "outputs": [],
   "source": [
    "# removing blank rows from data frame, setting threshold of 1 - anything with 1 NaN will be removed\n",
    "newdf = data_frame = data_frame.dropna(thresh=10)\n",
    "\n",
    "newdf.head()"
   ]
  },
  {
   "cell_type": "code",
   "execution_count": null,
   "metadata": {},
   "outputs": [],
   "source": [
    "# checking the size of the data set\n",
    "newdf.shape"
   ]
  },
  {
   "cell_type": "code",
   "execution_count": null,
   "metadata": {},
   "outputs": [],
   "source": [
    "# saving to new csv\n",
    "newdf.to_csv('cleaned_data02.csv')"
   ]
  },
  {
   "cell_type": "markdown",
   "metadata": {},
   "source": [
    " We have now cut our data from 13,000+ rows down to 1,411 after removing any rows which were mostly blank (NaN) rows. Our reasoning for this was due to missing values would cause issues when implementing any machine learning modules.\n",
    " \n",
    "Data Exploration\n",
    " We now want to create some graphs to help visualize the current data"
   ]
  },
  {
   "cell_type": "code",
   "execution_count": null,
   "metadata": {},
   "outputs": [],
   "source": [
    "year = newdf['year']\n",
    "homicides = newdf['Intentional homicides (per 100,000 people)']\n",
    "\n",
    "plt.bar(year, homicides, color=\"red\")\n",
    "\n",
    "plt.xlabel('Year')\n",
    "\n",
    "plt.ylabel('Homicides')\n",
    "\n",
    "plt.title('Increase/Decrease in Homicides')\n",
    "\n",
    "plt.xticks(rotation=90)\n",
    "\n",
    "plt.show()"
   ]
  },
  {
   "cell_type": "code",
   "execution_count": null,
   "metadata": {},
   "outputs": [],
   "source": [
    "year = newdf['year']\n",
    "Suicide = newdf['Suicide mortality rate (per 100,000 population)']\n",
    "\n",
    "plt.bar(year, Suicide, color=\"blue\")\n",
    "\n",
    "plt.xlabel('Year')\n",
    "\n",
    "plt.ylabel('Suicide')\n",
    "\n",
    "plt.title('Graph for suicides per year')\n",
    "\n",
    "plt.xticks(rotation=90)\n",
    "\n",
    "plt.show()"
   ]
  },
  {
   "cell_type": "code",
   "execution_count": null,
   "metadata": {},
   "outputs": [],
   "source": [
    "year = newdf['year']\n",
    "GDP = newdf['GDP per capita, PPP (current international $)']\n",
    "\n",
    "plt.bar(year, GDP, color=\"green\")\n",
    "\n",
    "plt.xlabel('Year')\n",
    "\n",
    "plt.ylabel('GDP')\n",
    "\n",
    "plt.title('GDP per year')\n",
    "\n",
    "plt.xticks(rotation=90)\n",
    "\n",
    "plt.show()"
   ]
  },
  {
   "cell_type": "code",
   "execution_count": null,
   "metadata": {},
   "outputs": [],
   "source": []
  }
 ],
 "metadata": {
  "interpreter": {
   "hash": "639f361ad657fd45530bdd3e74f62afebc8edc35ba6ab7eef1042ba440bc9585"
  },
  "kernelspec": {
   "display_name": "Python 3.9.5 64-bit",
   "language": "python",
   "name": "python3"
  },
  "language_info": {
   "codemirror_mode": {
    "name": "ipython",
    "version": 3
   },
   "file_extension": ".py",
   "mimetype": "text/x-python",
   "name": "python",
   "nbconvert_exporter": "python",
   "pygments_lexer": "ipython3",
   "version": "3.9.5"
  },
  "orig_nbformat": 4
 },
 "nbformat": 4,
 "nbformat_minor": 2
}
